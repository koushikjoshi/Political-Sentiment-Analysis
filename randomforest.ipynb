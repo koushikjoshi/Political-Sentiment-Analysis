{
 "metadata": {
  "language_info": {
   "codemirror_mode": {
    "name": "ipython",
    "version": 3
   },
   "file_extension": ".py",
   "mimetype": "text/x-python",
   "name": "python",
   "nbconvert_exporter": "python",
   "pygments_lexer": "ipython3",
   "version": "3.8.3"
  },
  "orig_nbformat": 2,
  "kernelspec": {
   "name": "python383jvsc74a57bd007efdcd4b820c98a756949507a4d29d7862823915ec7477944641bea022f4f62",
   "display_name": "Python 3.8.3 64-bit ('base': conda)"
  },
  "metadata": {
   "interpreter": {
    "hash": "7d5c25a0dcd433e9174dbd40cc8162c4c651cca147fa234e40a811528338fdfd"
   }
  }
 },
 "nbformat": 4,
 "nbformat_minor": 2,
 "cells": [
  {
   "cell_type": "code",
   "execution_count": 37,
   "metadata": {},
   "outputs": [],
   "source": [
    "import sklearn\n",
    "import numpy as np\n",
    "import pandas as pd"
   ]
  },
  {
   "cell_type": "code",
   "execution_count": 38,
   "metadata": {},
   "outputs": [],
   "source": [
    "from numpy.random import RandomState\n",
    "\n",
    "df = pd.read_csv('Twitter_Data.csv')\n",
    "rng = RandomState()\n",
    "\n",
    "train = df.sample(frac=0.25, random_state=rng)\n",
    "# test = df.loc[~df.index.isin(train.index)]\n",
    "test = df.sample(frac=0.10, random_state=rng)"
   ]
  },
  {
   "cell_type": "code",
   "execution_count": 39,
   "metadata": {},
   "outputs": [
    {
     "output_type": "execute_result",
     "data": {
      "text/plain": [
       "                                               clean_text  category\n",
       "39464                            you will win behalf modi       1.0\n",
       "122152  come guys though modi deserves more but photos...       1.0\n",
       "60900   you maybe right\\njust help understand iaf stri...       1.0\n",
       "84976   since bjpites have been jumping saying modi ne...       0.0\n",
       "153208  full interview watch prime minister narendra m...       1.0"
      ],
      "text/html": "<div>\n<style scoped>\n    .dataframe tbody tr th:only-of-type {\n        vertical-align: middle;\n    }\n\n    .dataframe tbody tr th {\n        vertical-align: top;\n    }\n\n    .dataframe thead th {\n        text-align: right;\n    }\n</style>\n<table border=\"1\" class=\"dataframe\">\n  <thead>\n    <tr style=\"text-align: right;\">\n      <th></th>\n      <th>clean_text</th>\n      <th>category</th>\n    </tr>\n  </thead>\n  <tbody>\n    <tr>\n      <th>39464</th>\n      <td>you will win behalf modi</td>\n      <td>1.0</td>\n    </tr>\n    <tr>\n      <th>122152</th>\n      <td>come guys though modi deserves more but photos...</td>\n      <td>1.0</td>\n    </tr>\n    <tr>\n      <th>60900</th>\n      <td>you maybe right\\njust help understand iaf stri...</td>\n      <td>1.0</td>\n    </tr>\n    <tr>\n      <th>84976</th>\n      <td>since bjpites have been jumping saying modi ne...</td>\n      <td>0.0</td>\n    </tr>\n    <tr>\n      <th>153208</th>\n      <td>full interview watch prime minister narendra m...</td>\n      <td>1.0</td>\n    </tr>\n  </tbody>\n</table>\n</div>"
     },
     "metadata": {},
     "execution_count": 39
    }
   ],
   "source": [
    "train.head()"
   ]
  },
  {
   "cell_type": "code",
   "execution_count": 40,
   "metadata": {},
   "outputs": [
    {
     "output_type": "execute_result",
     "data": {
      "text/plain": [
       "                                               clean_text  category\n",
       "61395   you are not journalist you are biased modi sup...       0.0\n",
       "141239  rajnit big aal raundar manniny bhavi narendar ...       1.0\n",
       "39442   when authoritarians face elcewtion they wag th...       0.0\n",
       "72311   what there talk they dont grow trees took year...       1.0\n",
       "136653                             yaa too\\nand yes modi        0.0"
      ],
      "text/html": "<div>\n<style scoped>\n    .dataframe tbody tr th:only-of-type {\n        vertical-align: middle;\n    }\n\n    .dataframe tbody tr th {\n        vertical-align: top;\n    }\n\n    .dataframe thead th {\n        text-align: right;\n    }\n</style>\n<table border=\"1\" class=\"dataframe\">\n  <thead>\n    <tr style=\"text-align: right;\">\n      <th></th>\n      <th>clean_text</th>\n      <th>category</th>\n    </tr>\n  </thead>\n  <tbody>\n    <tr>\n      <th>61395</th>\n      <td>you are not journalist you are biased modi sup...</td>\n      <td>0.0</td>\n    </tr>\n    <tr>\n      <th>141239</th>\n      <td>rajnit big aal raundar manniny bhavi narendar ...</td>\n      <td>1.0</td>\n    </tr>\n    <tr>\n      <th>39442</th>\n      <td>when authoritarians face elcewtion they wag th...</td>\n      <td>0.0</td>\n    </tr>\n    <tr>\n      <th>72311</th>\n      <td>what there talk they dont grow trees took year...</td>\n      <td>1.0</td>\n    </tr>\n    <tr>\n      <th>136653</th>\n      <td>yaa too\\nand yes modi</td>\n      <td>0.0</td>\n    </tr>\n  </tbody>\n</table>\n</div>"
     },
     "metadata": {},
     "execution_count": 40
    }
   ],
   "source": [
    "test.head()"
   ]
  },
  {
   "cell_type": "code",
   "execution_count": 41,
   "metadata": {},
   "outputs": [
    {
     "output_type": "execute_result",
     "data": {
      "text/plain": [
       "17911"
      ]
     },
     "metadata": {},
     "execution_count": 41
    }
   ],
   "source": [
    "sum(train[\"category\"] == 1)"
   ]
  },
  {
   "cell_type": "code",
   "execution_count": 42,
   "metadata": {},
   "outputs": [
    {
     "output_type": "execute_result",
     "data": {
      "text/plain": [
       "13934"
      ]
     },
     "metadata": {},
     "execution_count": 42
    }
   ],
   "source": [
    "sum(train[\"category\"] == 0)"
   ]
  },
  {
   "cell_type": "code",
   "execution_count": 43,
   "metadata": {},
   "outputs": [
    {
     "output_type": "execute_result",
     "data": {
      "text/plain": [
       "8898"
      ]
     },
     "metadata": {},
     "execution_count": 43
    }
   ],
   "source": [
    "sum(train[\"category\"] == -1)"
   ]
  },
  {
   "cell_type": "code",
   "execution_count": 44,
   "metadata": {},
   "outputs": [
    {
     "output_type": "execute_result",
     "data": {
      "text/plain": [
       "clean_text    0\n",
       "category      2\n",
       "dtype: int64"
      ]
     },
     "metadata": {},
     "execution_count": 44
    }
   ],
   "source": [
    "train.isnull().sum()"
   ]
  },
  {
   "cell_type": "code",
   "execution_count": 45,
   "metadata": {},
   "outputs": [
    {
     "output_type": "stream",
     "name": "stdout",
     "text": [
      "Requirement already satisfied: tweet-preprocessor in d:\\anaconda\\lib\\site-packages (0.6.0)\n"
     ]
    }
   ],
   "source": [
    "!pip install tweet-preprocessor\n"
   ]
  },
  {
   "cell_type": "code",
   "execution_count": 46,
   "metadata": {},
   "outputs": [],
   "source": [
    "# remove special characters using the regular expression library\n",
    "import re\n",
    "\n",
    "#set up punctuations we want to be replaced\n",
    "REPLACE_NO_SPACE = re.compile(\"(\\.)|(\\;)|(\\:)|(\\!)|(\\')|(\\?)|(\\,)|(\\\")|(\\|)|(\\()|(\\))|(\\[)|(\\])|(\\%)|(\\$)|(\\>)|(\\<)|(\\{)|(\\})\")\n",
    "REPLACE_WITH_SPACE = re.compile(\"(<br\\s/><br\\s/?)|(-)|(/)|(:).\")"
   ]
  },
  {
   "cell_type": "code",
   "execution_count": 47,
   "metadata": {},
   "outputs": [],
   "source": [
    "train = train.dropna()\n",
    "test = test.dropna()"
   ]
  },
  {
   "cell_type": "code",
   "execution_count": 48,
   "metadata": {},
   "outputs": [
    {
     "output_type": "execute_result",
     "data": {
      "text/plain": [
       "clean_text    0\n",
       "category      0\n",
       "dtype: int64"
      ]
     },
     "metadata": {},
     "execution_count": 48
    }
   ],
   "source": [
    "train.isnull().sum()"
   ]
  },
  {
   "cell_type": "code",
   "execution_count": 49,
   "metadata": {},
   "outputs": [
    {
     "output_type": "execute_result",
     "data": {
      "text/plain": [
       "clean_text    0\n",
       "category      0\n",
       "dtype: int64"
      ]
     },
     "metadata": {},
     "execution_count": 49
    }
   ],
   "source": [
    "test.isnull().sum()"
   ]
  },
  {
   "cell_type": "code",
   "execution_count": 50,
   "metadata": {},
   "outputs": [
    {
     "output_type": "execute_result",
     "data": {
      "text/plain": [
       "17911"
      ]
     },
     "metadata": {},
     "execution_count": 50
    }
   ],
   "source": [
    "sum(train[\"category\"] == 1)"
   ]
  },
  {
   "cell_type": "code",
   "execution_count": 51,
   "metadata": {},
   "outputs": [],
   "source": [
    "import preprocessor as p\n",
    "\n",
    "# custum function to clean the dataset (combining tweet_preprocessor and reguar expression)\n",
    "def clean_tweets(df):\n",
    "  tempArr = []\n",
    "  for line in df:\n",
    "    # send to tweet_processor\n",
    "    tmpL = p.clean(line)\n",
    "    # remove puctuation\n",
    "    tmpL = REPLACE_NO_SPACE.sub(\"\", tmpL.lower()) # convert all tweets to lower cases\n",
    "    tmpL = REPLACE_WITH_SPACE.sub(\" \", tmpL)\n",
    "    tempArr.append(tmpL)\n",
    "  return tempArr\n"
   ]
  },
  {
   "cell_type": "code",
   "execution_count": 52,
   "metadata": {},
   "outputs": [],
   "source": [
    "# train_tweet = clean_tweets(train[\"clean_text\"])\n",
    "# train_tweet = pd.DataFrame(train_tweet)"
   ]
  },
  {
   "cell_type": "code",
   "execution_count": 53,
   "metadata": {},
   "outputs": [
    {
     "output_type": "execute_result",
     "data": {
      "text/plain": [
       "                                               clean_text  category\n",
       "39464                            you will win behalf modi       1.0\n",
       "122152  come guys though modi deserves more but photos...       1.0\n",
       "60900   you maybe right\\njust help understand iaf stri...       1.0\n",
       "84976   since bjpites have been jumping saying modi ne...       0.0\n",
       "153208  full interview watch prime minister narendra m...       1.0\n",
       "77843   surgical strikes iaf airstrikes inside pakista...       0.0\n",
       "73603   india under leadership despotic cruel dictator...      -1.0\n",
       "4359    childlike innocence sidiqul farooq has made fa...       0.0\n",
       "130345  she must fight against modi sure she may give ...       1.0\n",
       "127768  till 2014 scientists were supposed keep quiet ...       1.0"
      ],
      "text/html": "<div>\n<style scoped>\n    .dataframe tbody tr th:only-of-type {\n        vertical-align: middle;\n    }\n\n    .dataframe tbody tr th {\n        vertical-align: top;\n    }\n\n    .dataframe thead th {\n        text-align: right;\n    }\n</style>\n<table border=\"1\" class=\"dataframe\">\n  <thead>\n    <tr style=\"text-align: right;\">\n      <th></th>\n      <th>clean_text</th>\n      <th>category</th>\n    </tr>\n  </thead>\n  <tbody>\n    <tr>\n      <th>39464</th>\n      <td>you will win behalf modi</td>\n      <td>1.0</td>\n    </tr>\n    <tr>\n      <th>122152</th>\n      <td>come guys though modi deserves more but photos...</td>\n      <td>1.0</td>\n    </tr>\n    <tr>\n      <th>60900</th>\n      <td>you maybe right\\njust help understand iaf stri...</td>\n      <td>1.0</td>\n    </tr>\n    <tr>\n      <th>84976</th>\n      <td>since bjpites have been jumping saying modi ne...</td>\n      <td>0.0</td>\n    </tr>\n    <tr>\n      <th>153208</th>\n      <td>full interview watch prime minister narendra m...</td>\n      <td>1.0</td>\n    </tr>\n    <tr>\n      <th>77843</th>\n      <td>surgical strikes iaf airstrikes inside pakista...</td>\n      <td>0.0</td>\n    </tr>\n    <tr>\n      <th>73603</th>\n      <td>india under leadership despotic cruel dictator...</td>\n      <td>-1.0</td>\n    </tr>\n    <tr>\n      <th>4359</th>\n      <td>childlike innocence sidiqul farooq has made fa...</td>\n      <td>0.0</td>\n    </tr>\n    <tr>\n      <th>130345</th>\n      <td>she must fight against modi sure she may give ...</td>\n      <td>1.0</td>\n    </tr>\n    <tr>\n      <th>127768</th>\n      <td>till 2014 scientists were supposed keep quiet ...</td>\n      <td>1.0</td>\n    </tr>\n  </tbody>\n</table>\n</div>"
     },
     "metadata": {},
     "execution_count": 53
    }
   ],
   "source": [
    "# append cleaned tweets to the training data\n",
    "# train[\"clean_tweet\"] = train_tweet\n",
    "\n",
    "# compare the cleaned and uncleaned tweets\n",
    "train.head(10)"
   ]
  },
  {
   "cell_type": "code",
   "execution_count": 54,
   "metadata": {},
   "outputs": [
    {
     "output_type": "execute_result",
     "data": {
      "text/plain": [
       "                                               clean_text  category\n",
       "61395   you are not journalist you are biased modi sup...       0.0\n",
       "141239  rajnit big aal raundar manniny bhavi narendar ...       1.0\n",
       "39442   when authoritarians face elcewtion they wag th...       0.0\n",
       "72311   what there talk they dont grow trees took year...       1.0\n",
       "136653                             yaa too\\nand yes modi        0.0"
      ],
      "text/html": "<div>\n<style scoped>\n    .dataframe tbody tr th:only-of-type {\n        vertical-align: middle;\n    }\n\n    .dataframe tbody tr th {\n        vertical-align: top;\n    }\n\n    .dataframe thead th {\n        text-align: right;\n    }\n</style>\n<table border=\"1\" class=\"dataframe\">\n  <thead>\n    <tr style=\"text-align: right;\">\n      <th></th>\n      <th>clean_text</th>\n      <th>category</th>\n    </tr>\n  </thead>\n  <tbody>\n    <tr>\n      <th>61395</th>\n      <td>you are not journalist you are biased modi sup...</td>\n      <td>0.0</td>\n    </tr>\n    <tr>\n      <th>141239</th>\n      <td>rajnit big aal raundar manniny bhavi narendar ...</td>\n      <td>1.0</td>\n    </tr>\n    <tr>\n      <th>39442</th>\n      <td>when authoritarians face elcewtion they wag th...</td>\n      <td>0.0</td>\n    </tr>\n    <tr>\n      <th>72311</th>\n      <td>what there talk they dont grow trees took year...</td>\n      <td>1.0</td>\n    </tr>\n    <tr>\n      <th>136653</th>\n      <td>yaa too\\nand yes modi</td>\n      <td>0.0</td>\n    </tr>\n  </tbody>\n</table>\n</div>"
     },
     "metadata": {},
     "execution_count": 54
    }
   ],
   "source": [
    "# clean the test data and append the cleaned tweets to the test data\n",
    "# test_tweet = clean_tweets(test[\"clean_text\"])\n",
    "# test_tweet = pd.DataFrame(test_tweet)\n",
    "# append cleaned tweets to the training data\n",
    "# test[\"clean_tweet\"] = test_tweet\n",
    "\n",
    "# compare the cleaned and uncleaned tweets\n",
    "test.head()\n"
   ]
  },
  {
   "cell_type": "code",
   "execution_count": 55,
   "metadata": {},
   "outputs": [],
   "source": [
    "train = train.dropna()\n",
    "test = test.dropna()"
   ]
  },
  {
   "cell_type": "code",
   "execution_count": 56,
   "metadata": {},
   "outputs": [
    {
     "output_type": "execute_result",
     "data": {
      "text/plain": [
       "                                               clean_text  category\n",
       "29619   modi has been loyal his financiers the corpora...       1.0\n",
       "24034     bbc news nirav modi billionaires art auctioned        0.0\n",
       "72115   but the credit goes one and only refused earli...       0.0\n",
       "14398   read manifesto 2014 mention lakh rupees offici...       0.0\n",
       "147658  chokidaar means modi and the biggest thief mil...       0.0"
      ],
      "text/html": "<div>\n<style scoped>\n    .dataframe tbody tr th:only-of-type {\n        vertical-align: middle;\n    }\n\n    .dataframe tbody tr th {\n        vertical-align: top;\n    }\n\n    .dataframe thead th {\n        text-align: right;\n    }\n</style>\n<table border=\"1\" class=\"dataframe\">\n  <thead>\n    <tr style=\"text-align: right;\">\n      <th></th>\n      <th>clean_text</th>\n      <th>category</th>\n    </tr>\n  </thead>\n  <tbody>\n    <tr>\n      <th>29619</th>\n      <td>modi has been loyal his financiers the corpora...</td>\n      <td>1.0</td>\n    </tr>\n    <tr>\n      <th>24034</th>\n      <td>bbc news nirav modi billionaires art auctioned</td>\n      <td>0.0</td>\n    </tr>\n    <tr>\n      <th>72115</th>\n      <td>but the credit goes one and only refused earli...</td>\n      <td>0.0</td>\n    </tr>\n    <tr>\n      <th>14398</th>\n      <td>read manifesto 2014 mention lakh rupees offici...</td>\n      <td>0.0</td>\n    </tr>\n    <tr>\n      <th>147658</th>\n      <td>chokidaar means modi and the biggest thief mil...</td>\n      <td>0.0</td>\n    </tr>\n  </tbody>\n</table>\n</div>"
     },
     "metadata": {},
     "execution_count": 56
    }
   ],
   "source": [
    "test.tail()"
   ]
  },
  {
   "cell_type": "code",
   "execution_count": 58,
   "metadata": {},
   "outputs": [],
   "source": [
    "from sklearn.model_selection import train_test_split\n",
    "\n",
    "# extract the labels from the train data\n",
    "y = train.category.values\n",
    "\n",
    "# use 70% for the training and 30% for the test\n",
    "x_train, x_test, y_train, y_test = train_test_split(train.clean_text.values, y, \n",
    "                                                    stratify=y, \n",
    "                                                    random_state=1, \n",
    "                                                    test_size=0.3, shuffle=True)"
   ]
  },
  {
   "cell_type": "code",
   "execution_count": 59,
   "metadata": {},
   "outputs": [],
   "source": [
    "from sklearn.feature_extraction.text import CountVectorizer\n"
   ]
  },
  {
   "cell_type": "code",
   "execution_count": 69,
   "metadata": {},
   "outputs": [
    {
     "output_type": "execute_result",
     "data": {
      "text/plain": [
       "   am  and  from  is  jain  joshi  koushik  this  university\n",
       "0   1    1     1   1     1      1        1     1           1"
      ],
      "text/html": "<div>\n<style scoped>\n    .dataframe tbody tr th:only-of-type {\n        vertical-align: middle;\n    }\n\n    .dataframe tbody tr th {\n        vertical-align: top;\n    }\n\n    .dataframe thead th {\n        text-align: right;\n    }\n</style>\n<table border=\"1\" class=\"dataframe\">\n  <thead>\n    <tr style=\"text-align: right;\">\n      <th></th>\n      <th>am</th>\n      <th>and</th>\n      <th>from</th>\n      <th>is</th>\n      <th>jain</th>\n      <th>joshi</th>\n      <th>koushik</th>\n      <th>this</th>\n      <th>university</th>\n    </tr>\n  </thead>\n  <tbody>\n    <tr>\n      <th>0</th>\n      <td>1</td>\n      <td>1</td>\n      <td>1</td>\n      <td>1</td>\n      <td>1</td>\n      <td>1</td>\n      <td>1</td>\n      <td>1</td>\n      <td>1</td>\n    </tr>\n  </tbody>\n</table>\n</div>"
     },
     "metadata": {},
     "execution_count": 69
    }
   ],
   "source": [
    "documents = [\"This is Koushik Joshi and I am from Jain University\"]\n",
    "\n",
    "# initializing the countvectorizer\n",
    "vectorizer = CountVectorizer()\n",
    "\n",
    "# tokenize and make the document into a matrix\n",
    "document_term_matrix = vectorizer.fit_transform(documents)\n",
    "\n",
    "# check the result\n",
    "pd.DataFrame(document_term_matrix.toarray(), columns = vectorizer.get_feature_names())"
   ]
  },
  {
   "cell_type": "code",
   "execution_count": 61,
   "metadata": {},
   "outputs": [],
   "source": [
    "from sklearn.feature_extraction.text import CountVectorizer\n",
    "\n",
    "# vectorize tweets for model building\n",
    "vectorizer = CountVectorizer(binary=True, stop_words='english')\n",
    "\n",
    "# learn a vocabulary dictionary of all tokens in the raw documents\n",
    "vectorizer.fit(list(x_train) + list(x_test))\n",
    "\n",
    "# transform documents to document-term matrix\n",
    "x_train_vec = vectorizer.transform(x_train)\n",
    "x_test_vec = vectorizer.transform(x_test)\n"
   ]
  },
  {
   "cell_type": "code",
   "execution_count": 62,
   "metadata": {},
   "outputs": [],
   "source": [
    "from sklearn import svm\n",
    "# classify using support vector classifier\n",
    "svm = svm.SVC(kernel = 'linear', probability=True)\n",
    "\n",
    "# fit the SVC model based on the given training data\n",
    "prob = svm.fit(x_train_vec, y_train).predict_proba(x_test_vec)\n",
    "\n",
    "# perform classification and prediction on samples in x_test\n",
    "y_pred_svm = svm.predict(x_test_vec)"
   ]
  },
  {
   "cell_type": "code",
   "execution_count": 63,
   "metadata": {},
   "outputs": [
    {
     "output_type": "stream",
     "name": "stdout",
     "text": [
      "Accuracy score for SVC is:  82.05841446453408 %\n"
     ]
    }
   ],
   "source": [
    "from sklearn.metrics import accuracy_score\n",
    "print(\"Accuracy score for SVC is: \", accuracy_score(y_test, y_pred_svm) * 100, '%')"
   ]
  },
  {
   "cell_type": "code",
   "execution_count": 64,
   "metadata": {},
   "outputs": [
    {
     "output_type": "stream",
     "name": "stdout",
     "text": [
      "done\n"
     ]
    }
   ],
   "source": [
    "print(\"done\")"
   ]
  },
  {
   "cell_type": "code",
   "execution_count": 65,
   "metadata": {},
   "outputs": [
    {
     "output_type": "execute_result",
     "data": {
      "text/plain": [
       "['finalized_svm_model.sav']"
      ]
     },
     "metadata": {},
     "execution_count": 65
    }
   ],
   "source": [
    "import pickle\n",
    "import joblib\n",
    "joblib.dump(svm, 'finalized_svm_model.sav')"
   ]
  },
  {
   "cell_type": "code",
   "execution_count": null,
   "metadata": {},
   "outputs": [],
   "source": []
  }
 ]
}