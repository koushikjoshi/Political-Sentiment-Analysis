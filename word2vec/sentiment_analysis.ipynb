{
 "metadata": {
  "language_info": {
   "codemirror_mode": {
    "name": "ipython",
    "version": 3
   },
   "file_extension": ".py",
   "mimetype": "text/x-python",
   "name": "python",
   "nbconvert_exporter": "python",
   "pygments_lexer": "ipython3",
   "version": "3.8.5"
  },
  "orig_nbformat": 2,
  "kernelspec": {
   "name": "python385jvsc74a57bd0f56cffdfb8a3c28fb5d73307836774a10a5a42bd9311c7e679cf966abb5d38fa",
   "display_name": "Python 3.8.5 64-bit ('base': conda)"
  }
 },
 "nbformat": 4,
 "nbformat_minor": 2,
 "cells": [
  {
   "cell_type": "code",
   "execution_count": 1,
   "metadata": {},
   "outputs": [],
   "source": [
    "import tensorflow as tf\n",
    "from tensorflow.keras.layers import Dense, LSTM, Dropout\n",
    "from tensorflow.keras.models import Model\n",
    "from tensorflow.keras.models import Sequential\n",
    "from tensorflow.compat.v1.keras.layers import CuDNNLSTM\n",
    "import tensorflow_hub as hub\n",
    "from sklearn.utils import shuffle\n",
    "from sklearn.model_selection import train_test_split\n",
    "import numpy as np\n",
    "import pandas as pd\n",
    "import numpy as np\n",
    "import nltk\n",
    "import re"
   ]
  },
  {
   "cell_type": "code",
   "execution_count": 2,
   "metadata": {},
   "outputs": [
    {
     "output_type": "stream",
     "name": "stderr",
     "text": [
      "[nltk_data] Downloading package stopwords to\n[nltk_data]     C:\\Users\\Dhruv\\AppData\\Roaming\\nltk_data...\n[nltk_data]   Package stopwords is already up-to-date!\n"
     ]
    }
   ],
   "source": [
    "nltk.download('stopwords')\n",
    "stop_words = nltk.corpus.stopwords.words(\"english\")"
   ]
  },
  {
   "cell_type": "code",
   "execution_count": 3,
   "metadata": {},
   "outputs": [],
   "source": [
    "data = pd.read_csv(\"C:\\__DESKTOP\\GitHub\\Political-Sentiment-Analysis\\word2vec\\Twitter_Data.csv\")\n",
    "\n",
    "data = shuffle(data)\n",
    "data.reset_index(inplace=True, drop=True)\n",
    "data = data[data.category!= 0]\n",
    "data = data.head(30000)"
   ]
  },
  {
   "cell_type": "code",
   "execution_count": 4,
   "metadata": {},
   "outputs": [],
   "source": [
    "X = []\n",
    "for sen in data['clean_text']:\n",
    "  X.append(sen)\n",
    "Y = np.array((data['category']+1)/2,dtype=np.int64)"
   ]
  },
  {
   "cell_type": "code",
   "execution_count": 5,
   "metadata": {},
   "outputs": [
    {
     "output_type": "stream",
     "name": "stdout",
     "text": [
      "<class 'list'>\n<class 'str'>\ncost living have significantly reduced under modi government via \n<class 'numpy.ndarray'>\n<class 'numpy.int64'>\n1\n"
     ]
    }
   ],
   "source": [
    "print(type(X))\n",
    "print(type(X[0]))\n",
    "print(X[0])\n",
    "print(type(Y))\n",
    "print(type(Y[0]))\n",
    "print(Y[0])"
   ]
  },
  {
   "cell_type": "code",
   "execution_count": 6,
   "metadata": {},
   "outputs": [],
   "source": [
    "X_train, X_test, Y_train, Y_test = train_test_split(X, Y, test_size=0.2)"
   ]
  },
  {
   "cell_type": "code",
   "execution_count": 7,
   "metadata": {},
   "outputs": [],
   "source": [
    "embed = hub.load(\"https://tfhub.dev/google/Wiki-words-250/2\")"
   ]
  },
  {
   "cell_type": "code",
   "execution_count": 8,
   "metadata": {},
   "outputs": [],
   "source": [
    "def preprocess(text):\n",
    "    text = re.sub(\"@\\S+|https?:\\S+|http?:\\S|[^A-Za-z0-9]+\", ' ', str(text).lower()).strip()\n",
    "    tokens = []\n",
    "    for token in text.split():\n",
    "        if token not in stop_words:\n",
    "          tokens.append(token)\n",
    "    return \" \".join(tokens)\n",
    "\n",
    "def encoding(tweet):\n",
    "  tweet = preprocess(tweet)\n",
    "  tokens = tweet.split(\" \")\n",
    "  embedding = []\n",
    "  for token in tokens:\n",
    "    embedding.append(embed([token]).numpy()[0])\n",
    "\n",
    "  embedding = np.array(embedding)\n",
    "  padded_tweet = padding(embedding)\n",
    "  return padded_tweet\n",
    "\n",
    "def padding(encoded_tweet):\n",
    "  count = 70 - encoded_tweet.shape[0]\n",
    "  pad = np.zeros((1,250))\n",
    "  for i in range(count):\n",
    "    encoded_tweet = np.concatenate((pad,encoded_tweet), axis=0)\n",
    "  return encoded_tweet\n",
    "\n",
    "\n",
    "def processed_tweets(tweets):\n",
    "  x = []\n",
    "  for tweet in tweets:\n",
    "    enc = encoding(tweet)\n",
    "    x.append(enc)\n",
    "  x = np.array(x)\n",
    "  return x"
   ]
  },
  {
   "cell_type": "code",
   "execution_count": 9,
   "metadata": {},
   "outputs": [],
   "source": [
    "X_train = processed_tweets(X_train)\n",
    "X_test = processed_tweets(X_test)"
   ]
  },
  {
   "cell_type": "code",
   "execution_count": 10,
   "metadata": {},
   "outputs": [
    {
     "output_type": "stream",
     "name": "stdout",
     "text": [
      "<class 'numpy.ndarray'>\n(6000, 70, 250)\n(24000, 70, 250)\n"
     ]
    }
   ],
   "source": [
    "print(type(X_train))\n",
    "print(X_test.shape)\n",
    "print(X_train.shape)"
   ]
  },
  {
   "cell_type": "code",
   "execution_count": 14,
   "metadata": {},
   "outputs": [
    {
     "output_type": "stream",
     "name": "stdout",
     "text": [
      "[[[ 0.          0.          0.         ...  0.          0.\n    0.        ]\n  [ 0.          0.          0.         ...  0.          0.\n    0.        ]\n  [ 0.          0.          0.         ...  0.          0.\n    0.        ]\n  ...\n  [-0.10141002  0.04614043  0.07535188 ...  0.06751132 -0.12479866\n   -0.0409786 ]\n  [-0.04654795 -0.03045449  0.09535213 ...  0.1478346  -0.06534926\n    0.02823413]\n  [-0.14189312 -0.04154152  0.06161864 ...  0.02668094  0.03337354\n    0.03328392]]\n\n [[ 0.          0.          0.         ...  0.          0.\n    0.        ]\n  [ 0.          0.          0.         ...  0.          0.\n    0.        ]\n  [ 0.          0.          0.         ...  0.          0.\n    0.        ]\n  ...\n  [-0.1441164   0.00284827  0.02030733 ...  0.0143747   0.03983784\n   -0.03091881]\n  [ 0.03566772  0.00216552 -0.03347598 ...  0.11814095  0.03247234\n    0.0506485 ]\n  [ 0.00080403  0.08247177  0.02548021 ...  0.05351444 -0.0986348\n   -0.01128561]]]\n<class 'numpy.float64'>\n(2, 70, 250)\n"
     ]
    }
   ],
   "source": [
    "tweet = ['Pained by the loss of lives due to a fire at a hospital in Bharuch. Condolences to the bereaved families.','To add further momentum to our strong strategic partnership, President Putin and I have agreed to establish a Ministerial Dialogue between our Foreign and Defence Ministers.']\n",
    "x = processed_tweets(tweet)\n",
    "y = np.array([0,1])\n",
    "print(x)\n",
    "print(type(x[0][0][0]))\n",
    "print(x.shape)"
   ]
  },
  {
   "cell_type": "code",
   "execution_count": 11,
   "metadata": {},
   "outputs": [],
   "source": [
    "clf = Sequential()\n",
    "\n",
    "clf.add(LSTM(128, activation='relu', return_sequences=True))\n",
    "clf.add(Dropout(0.2))\n",
    "\n",
    "clf.add(LSTM(128, activation='relu'))\n",
    "clf.add(Dropout(0.2))\n",
    "\n",
    "clf.add(Dense(32, activation='relu'))\n",
    "clf.add(Dropout(0.2))\n",
    "\n",
    "clf.add(Dense(1,activation='sigmoid'))\n",
    "\n",
    "clf.compile(optimizer='adam', loss='binary_crossentropy', metrics=['accuracy'])"
   ]
  },
  {
   "cell_type": "code",
   "execution_count": null,
   "metadata": {},
   "outputs": [],
   "source": [
    "clf.fit(X_train, Y_train, validation_data=(X_test,Y_test), epochs=10)"
   ]
  },
  {
   "cell_type": "code",
   "execution_count": null,
   "metadata": {},
   "outputs": [],
   "source": [
    "clf.predict(processed_tweets(tweet))"
   ]
  },
  {
   "cell_type": "code",
   "execution_count": null,
   "metadata": {},
   "outputs": [],
   "source": []
  }
 ]
}