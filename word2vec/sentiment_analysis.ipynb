{
 "metadata": {
  "language_info": {
   "codemirror_mode": {
    "name": "ipython",
    "version": 3
   },
   "file_extension": ".py",
   "mimetype": "text/x-python",
   "name": "python",
   "nbconvert_exporter": "python",
   "pygments_lexer": "ipython3",
   "version": "3.8.5"
  },
  "orig_nbformat": 2,
  "kernelspec": {
   "name": "python385jvsc74a57bd04427fa855f055c1b24402fbd876bc01967e8a2c2e16dbfbc56b4b71e14c6cc37",
   "display_name": "Python 3.8.5 64-bit (conda)"
  }
 },
 "nbformat": 4,
 "nbformat_minor": 2,
 "cells": [
  {
   "cell_type": "code",
   "execution_count": 2,
   "metadata": {},
   "outputs": [],
   "source": [
    "import tensorflow as tf\n",
    "from tensorflow.keras.layers import Dense, LSTM, Dropout\n",
    "from tensorflow.keras.models import Model\n",
    "from tensorflow.keras.models import Sequential\n",
    "from tensorflow.compat.v1.keras.layers import CuDNNLSTM\n",
    "import tensorflow_hub as hub\n",
    "from sklearn.utils import shuffle\n",
    "from sklearn.model_selection import train_test_split\n",
    "import numpy as np\n",
    "import pandas as pd\n",
    "import numpy as np\n",
    "import nltk\n",
    "import re"
   ]
  },
  {
   "cell_type": "code",
   "execution_count": 3,
   "metadata": {},
   "outputs": [
    {
     "output_type": "stream",
     "name": "stderr",
     "text": [
      "[nltk_data] Downloading package stopwords to\n",
      "[nltk_data]     C:\\Users\\Dhruv\\AppData\\Roaming\\nltk_data...\n",
      "[nltk_data]   Package stopwords is already up-to-date!\n"
     ]
    }
   ],
   "source": [
    "nltk.download('stopwords')\n",
    "stop_words = nltk.corpus.stopwords.words(\"english\")"
   ]
  },
  {
   "cell_type": "code",
   "execution_count": 4,
   "metadata": {},
   "outputs": [
    {
     "output_type": "execute_result",
     "data": {
      "text/plain": [
       "   target                                              tweet\n",
       "0       4   http://twitpic.com/6onob - DANNY... I love you! \n",
       "1       0  Let some recently purchased strawberries go ba...\n",
       "2       0  @Kanttila &quot;That's 1pm on the 17th in New ...\n",
       "3       4                   @Ellen_Stafford Its a good word \n",
       "4       0  aww i jealous - peeps are playing Sims 3 alrea..."
      ],
      "text/html": "<div>\n<style scoped>\n    .dataframe tbody tr th:only-of-type {\n        vertical-align: middle;\n    }\n\n    .dataframe tbody tr th {\n        vertical-align: top;\n    }\n\n    .dataframe thead th {\n        text-align: right;\n    }\n</style>\n<table border=\"1\" class=\"dataframe\">\n  <thead>\n    <tr style=\"text-align: right;\">\n      <th></th>\n      <th>target</th>\n      <th>tweet</th>\n    </tr>\n  </thead>\n  <tbody>\n    <tr>\n      <th>0</th>\n      <td>4</td>\n      <td>http://twitpic.com/6onob - DANNY... I love you!</td>\n    </tr>\n    <tr>\n      <th>1</th>\n      <td>0</td>\n      <td>Let some recently purchased strawberries go ba...</td>\n    </tr>\n    <tr>\n      <th>2</th>\n      <td>0</td>\n      <td>@Kanttila &amp;quot;That's 1pm on the 17th in New ...</td>\n    </tr>\n    <tr>\n      <th>3</th>\n      <td>4</td>\n      <td>@Ellen_Stafford Its a good word</td>\n    </tr>\n    <tr>\n      <th>4</th>\n      <td>0</td>\n      <td>aww i jealous - peeps are playing Sims 3 alrea...</td>\n    </tr>\n  </tbody>\n</table>\n</div>"
     },
     "metadata": {},
     "execution_count": 4
    }
   ],
   "source": [
    "data = pd.read_csv(\"training.1600000.processed.noemoticon.csv\",names = ['target','id','date','flag','user','tweet'], encoding=\"ISO-8859-1\")\n",
    "del data['id']\n",
    "del data['date']\n",
    "del data['flag']\n",
    "del data['user']\n",
    "\n",
    "data = shuffle(data)\n",
    "data.reset_index(inplace=True, drop=True)\n",
    "\n",
    "data.head()"
   ]
  },
  {
   "cell_type": "code",
   "execution_count": 5,
   "metadata": {},
   "outputs": [],
   "source": [
    "X = []\n",
    "for sen in data['tweet']:\n",
    "  X.append(sen)\n",
    "Y = np.array(data['target']/4)"
   ]
  },
  {
   "cell_type": "code",
   "execution_count": 6,
   "metadata": {},
   "outputs": [],
   "source": [
    "X_train, X_test, Y_train, Y_test = train_test_split(X, Y, test_size=0.2)"
   ]
  },
  {
   "cell_type": "code",
   "execution_count": 7,
   "metadata": {},
   "outputs": [],
   "source": [
    "embed = hub.load(\"https://tfhub.dev/google/Wiki-words-250/2\")"
   ]
  },
  {
   "cell_type": "code",
   "execution_count": 8,
   "metadata": {},
   "outputs": [],
   "source": [
    "def preprocess(text):\n",
    "    text = re.sub(\"@\\S+|https?:\\S+|http?:\\S|[^A-Za-z0-9]+\", ' ', str(text).lower()).strip()\n",
    "    tokens = []\n",
    "    for token in text.split():\n",
    "        if token not in stop_words:\n",
    "          tokens.append(token)\n",
    "    return \" \".join(tokens)\n",
    "\n",
    "def encoding(tweet):\n",
    "  tweet = preprocess(tweet)\n",
    "  tokens = tweet.split(\" \")\n",
    "  embedding = []\n",
    "  for token in tokens:\n",
    "    embedding.append(embed([token]).numpy()[0])\n",
    "\n",
    "  embedding = np.array(embedding)\n",
    "  padded_tweet = padding(embedding)\n",
    "  return padded_tweet\n",
    "\n",
    "def padding(encoded_tweet):\n",
    "  count = 70 - encoded_tweet.shape[0]\n",
    "  pad = np.zeros((1,250))\n",
    "  for i in range(count):\n",
    "    encoded_tweet = np.concatenate((pad,encoded_tweet), axis=0)\n",
    "  return encoded_tweet\n",
    "\n",
    "\n",
    "def processed_tweets(tweets):\n",
    "  x = []\n",
    "  for tweet in tweets:\n",
    "    enc = encoding(tweet)\n",
    "    x.append(enc)\n",
    "  return np.array(x)"
   ]
  },
  {
   "cell_type": "code",
   "execution_count": null,
   "metadata": {},
   "outputs": [],
   "source": [
    "X_train = processed_tweets(X_train)\n",
    "X_test = processed_tweets(X_test)"
   ]
  },
  {
   "cell_type": "code",
   "execution_count": 9,
   "metadata": {},
   "outputs": [
    {
     "output_type": "stream",
     "name": "stdout",
     "text": [
      "(2, 70, 250)\n"
     ]
    }
   ],
   "source": [
    "tweet = ['Pained by the loss of lives due to a fire at a hospital in Bharuch. Condolences to the bereaved families.','To add further momentum to our strong strategic partnership, President Putin and I have agreed to establish a Ministerial Dialogue between our Foreign and Defence Ministers.']\n",
    "x = processed_tweets(tweet)\n",
    "y = np.array([0,1])\n",
    "print(x.shape)"
   ]
  },
  {
   "cell_type": "code",
   "execution_count": 10,
   "metadata": {},
   "outputs": [],
   "source": [
    "clf = Sequential()\n",
    "\n",
    "clf.add(LSTM(128, activation='relu', return_sequences=True))\n",
    "clf.add(Dropout(0.2))\n",
    "\n",
    "clf.add(LSTM(128, activation='relu'))\n",
    "clf.add(Dropout(0.2))\n",
    "\n",
    "clf.add(Dense(32, activation='relu'))\n",
    "clf.add(Dropout(0.2))\n",
    "\n",
    "clf.add(Dense(1,activation='sigmoid'))\n",
    "\n",
    "clf.compile(optimizer='adam', loss='binary_crossentropy', metrics=['accuracy'])"
   ]
  },
  {
   "cell_type": "code",
   "execution_count": 15,
   "metadata": {},
   "outputs": [
    {
     "output_type": "stream",
     "name": "stdout",
     "text": [
      "Epoch 1/10\n",
      "1/1 [==============================] - 0s 49ms/step - loss: 1997.5466 - accuracy: 0.5000\n",
      "Epoch 2/10\n",
      "1/1 [==============================] - 0s 51ms/step - loss: 32.9729 - accuracy: 0.5000\n",
      "Epoch 3/10\n",
      "1/1 [==============================] - 0s 51ms/step - loss: 0.1003 - accuracy: 1.0000\n",
      "Epoch 4/10\n",
      "1/1 [==============================] - 0s 49ms/step - loss: 0.0422 - accuracy: 1.0000\n",
      "Epoch 5/10\n",
      "1/1 [==============================] - 0s 49ms/step - loss: 0.0642 - accuracy: 1.0000\n",
      "Epoch 6/10\n",
      "1/1 [==============================] - 0s 56ms/step - loss: 0.0658 - accuracy: 1.0000\n",
      "Epoch 7/10\n",
      "1/1 [==============================] - 0s 49ms/step - loss: 0.0294 - accuracy: 1.0000\n",
      "Epoch 8/10\n",
      "1/1 [==============================] - 0s 52ms/step - loss: 0.0421 - accuracy: 1.0000\n",
      "Epoch 9/10\n",
      "1/1 [==============================] - 0s 49ms/step - loss: 0.1722 - accuracy: 1.0000\n",
      "Epoch 10/10\n",
      "1/1 [==============================] - 0s 47ms/step - loss: 0.2344 - accuracy: 1.0000\n"
     ]
    },
    {
     "output_type": "execute_result",
     "data": {
      "text/plain": [
       "<tensorflow.python.keras.callbacks.History at 0x18885daa160>"
      ]
     },
     "metadata": {},
     "execution_count": 15
    }
   ],
   "source": [
    "clf.fit(x, y, epochs=10)"
   ]
  },
  {
   "cell_type": "code",
   "execution_count": 16,
   "metadata": {},
   "outputs": [
    {
     "output_type": "execute_result",
     "data": {
      "text/plain": [
       "array([[0.25499636],\n",
       "       [0.9954172 ]], dtype=float32)"
      ]
     },
     "metadata": {},
     "execution_count": 16
    }
   ],
   "source": [
    "clf.predict(processed_tweets(tweet))"
   ]
  }
 ]
}