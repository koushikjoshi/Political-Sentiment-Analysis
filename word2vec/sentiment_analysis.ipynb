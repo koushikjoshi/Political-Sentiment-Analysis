{
 "metadata": {
  "language_info": {
   "codemirror_mode": {
    "name": "ipython",
    "version": 3
   },
   "file_extension": ".py",
   "mimetype": "text/x-python",
   "name": "python",
   "nbconvert_exporter": "python",
   "pygments_lexer": "ipython3",
   "version": "3.8.5"
  },
  "orig_nbformat": 2,
  "kernelspec": {
   "name": "python385jvsc74a57bd0f56cffdfb8a3c28fb5d73307836774a10a5a42bd9311c7e679cf966abb5d38fa",
   "display_name": "Python 3.8.5 64-bit ('base': conda)"
  }
 },
 "nbformat": 4,
 "nbformat_minor": 2,
 "cells": [
  {
   "cell_type": "code",
   "execution_count": 27,
   "metadata": {},
   "outputs": [],
   "source": [
    "import tensorflow as tf\n",
    "from tensorflow.keras.layers import Dense, LSTM, Dropout\n",
    "from tensorflow.keras.models import Model\n",
    "from tensorflow.keras.models import Sequential\n",
    "from tensorflow.compat.v1.keras.layers import CuDNNLSTM\n",
    "import tensorflow_hub as hub\n",
    "from sklearn.utils import shuffle\n",
    "from sklearn.model_selection import train_test_split\n",
    "from tensorflow.keras import optimizers\n",
    "import numpy as np\n",
    "import pandas as pd\n",
    "import numpy as np\n",
    "import nltk\n",
    "import re"
   ]
  },
  {
   "cell_type": "code",
   "execution_count": 28,
   "metadata": {},
   "outputs": [
    {
     "output_type": "stream",
     "name": "stderr",
     "text": [
      "[nltk_data] Downloading package stopwords to\n[nltk_data]     C:\\Users\\Dhruv\\AppData\\Roaming\\nltk_data...\n[nltk_data]   Package stopwords is already up-to-date!\n"
     ]
    }
   ],
   "source": [
    "nltk.download('stopwords')\n",
    "stop_words = nltk.corpus.stopwords.words(\"english\")"
   ]
  },
  {
   "cell_type": "code",
   "execution_count": 55,
   "metadata": {},
   "outputs": [],
   "source": [
    "data = pd.read_csv(\"C:\\__DESKTOP\\GitHub\\Political-Sentiment-Analysis\\word2vec\\Twitter_Data.csv\")\n",
    "\n",
    "data = shuffle(data)\n",
    "data.reset_index(inplace=True, drop=True)\n",
    "data = data[data.category!= 0]\n",
    "data = data.sort_values(by=['clean_text'])\n",
    "data = data[:-1190]\n",
    "data = shuffle(data)\n",
    "data = data.head(20000)"
   ]
  },
  {
   "cell_type": "code",
   "execution_count": 56,
   "metadata": {},
   "outputs": [],
   "source": [
    "X = []\n",
    "for sen in data['clean_text']:\n",
    "  X.append(sen)\n",
    "Y = np.array((data['category']+1)/2,dtype=np.int64)"
   ]
  },
  {
   "cell_type": "code",
   "execution_count": 57,
   "metadata": {},
   "outputs": [],
   "source": [
    "X_train, X_test, Y_train, Y_test = train_test_split(X, Y, test_size=0.2)"
   ]
  },
  {
   "cell_type": "code",
   "execution_count": 33,
   "metadata": {},
   "outputs": [],
   "source": [
    "embed = hub.load(\"https://tfhub.dev/google/Wiki-words-250/2\")"
   ]
  },
  {
   "cell_type": "code",
   "execution_count": 47,
   "metadata": {},
   "outputs": [],
   "source": [
    "def preprocess(text):\n",
    "    text = re.sub(\"@\\S+|https?:\\S+|http?:\\S|[^A-Za-z0-9]+\", ' ', str(text).lower()).strip()\n",
    "    tokens = []\n",
    "    for token in text.split():\n",
    "        if token not in stop_words:\n",
    "          tokens.append(token)\n",
    "    return \" \".join(tokens)\n",
    "\n",
    "def encoding(tweet):\n",
    "  tweet = preprocess(tweet)\n",
    "  tokens = tweet.split(\" \")\n",
    "  embedding = []\n",
    "  for token in tokens:\n",
    "    embedding.append(embed([token]).numpy()[0])\n",
    "\n",
    "  embedding = np.array(embedding)\n",
    "  padded_tweet = padding(embedding)\n",
    "  return padded_tweet\n",
    "\n",
    "def padding(encoded_tweet):\n",
    "  count = 70 - encoded_tweet.shape[0]\n",
    "  pad = np.zeros((1,250))\n",
    "  for i in range(count):\n",
    "    encoded_tweet = np.concatenate((pad,encoded_tweet), axis=0)\n",
    "  return encoded_tweet\n",
    "\n",
    "\n",
    "def processed_tweets(tweets):\n",
    "  x = []\n",
    "  for tweet in tweets:\n",
    "    enc = encoding(tweet)\n",
    "    x.append(enc)\n",
    "  x = np.array(x)\n",
    "  return x"
   ]
  },
  {
   "cell_type": "code",
   "execution_count": 58,
   "metadata": {},
   "outputs": [],
   "source": [
    "X_train = processed_tweets(X_train)\n",
    "X_test = processed_tweets(X_test)"
   ]
  },
  {
   "cell_type": "code",
   "execution_count": 49,
   "metadata": {},
   "outputs": [
    {
     "output_type": "stream",
     "name": "stdout",
     "text": [
      "<class 'numpy.ndarray'>\n(200, 70, 250)\n(800, 70, 250)\n"
     ]
    }
   ],
   "source": [
    "print(type(X_train))\n",
    "print(X_test.shape)\n",
    "print(X_train.shape)"
   ]
  },
  {
   "cell_type": "code",
   "execution_count": 50,
   "metadata": {},
   "outputs": [
    {
     "output_type": "stream",
     "name": "stdout",
     "text": [
      "<class 'numpy.float64'>\n(2, 70, 250)\n"
     ]
    }
   ],
   "source": [
    "tweet = ['Pained by the loss of lives due to a fire at a hospital in Bharuch. Condolences to the bereaved families.','To add further momentum to our strong strategic partnership, President Putin and I have agreed to establish a Ministerial Dialogue between our Foreign and Defence Ministers.']\n",
    "x = processed_tweets(tweet)\n",
    "y = np.array([0,1])\n",
    "print(type(x[0][0][0]))\n",
    "print(x.shape)"
   ]
  },
  {
   "cell_type": "code",
   "execution_count": 54,
   "metadata": {},
   "outputs": [],
   "source": [
    "clf = Sequential()\n",
    "\n",
    "clf.add(LSTM(128, activation='relu', return_sequences=True))\n",
    "clf.add(Dropout(0.2))\n",
    "clf.add(LSTM(64, activation='relu'))\n",
    "clf.add(Dropout(0.2))\n",
    "clf.add(Dense(32, activation='relu'))\n",
    "clf.add(Dropout(0.2))\n",
    "clf.add(Dense(1,activation='sigmoid'))\n",
    "\n",
    "optimizer = optimizers.Adam(clipvalue=0.5)\n",
    "clf.compile(optimizer=optimizer, loss='binary_crossentropy', metrics=['accuracy'])"
   ]
  },
  {
   "cell_type": "code",
   "execution_count": 66,
   "metadata": {},
   "outputs": [
    {
     "output_type": "stream",
     "name": "stdout",
     "text": [
      "Epoch 1/2\n",
      "500/500 [==============================] - 50s 100ms/step - loss: 0.1510 - accuracy: 0.9401 - val_loss: 6880738397913088.0000 - val_accuracy: 0.8240\n",
      "Epoch 2/2\n",
      "500/500 [==============================] - 43s 86ms/step - loss: 0.1858 - accuracy: 0.9296 - val_loss: 5823969747795968.0000 - val_accuracy: 0.8242\n"
     ]
    },
    {
     "output_type": "execute_result",
     "data": {
      "text/plain": [
       "<tensorflow.python.keras.callbacks.History at 0x204e5f13430>"
      ]
     },
     "metadata": {},
     "execution_count": 66
    }
   ],
   "source": [
    "clf.fit(X_train, Y_train, validation_data=(X_test, Y_test), epochs=2)"
   ]
  },
  {
   "cell_type": "code",
   "execution_count": 67,
   "metadata": {},
   "outputs": [
    {
     "output_type": "execute_result",
     "data": {
      "text/plain": [
       "array([[0.17189175],\n",
       "       [0.9977386 ]], dtype=float32)"
      ]
     },
     "metadata": {},
     "execution_count": 67
    }
   ],
   "source": [
    "clf.predict(processed_tweets(tweet))"
   ]
  },
  {
   "cell_type": "code",
   "execution_count": 62,
   "metadata": {},
   "outputs": [],
   "source": [
    "clf.save('model83.h5')"
   ]
  },
  {
   "cell_type": "code",
   "execution_count": null,
   "metadata": {},
   "outputs": [],
   "source": []
  }
 ]
}