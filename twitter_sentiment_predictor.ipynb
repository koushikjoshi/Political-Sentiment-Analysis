{
  "nbformat": 4,
  "nbformat_minor": 0,
  "metadata": {
    "colab": {
      "name": "twitter_sentiment_predictor.ipynb",
      "provenance": [],
      "collapsed_sections": [],
      "mount_file_id": "1IsRclVIPqeHpfAIdORAm_oBWUn7bhLcH",
      "authorship_tag": "ABX9TyPxVCk3CmeIxvueFe9KIgmU",
      "include_colab_link": true
    },
    "kernelspec": {
      "name": "python3",
      "display_name": "Python 3"
    },
    "language_info": {
      "name": "python"
    }
  },
  "cells": [
    {
      "cell_type": "markdown",
      "metadata": {
        "id": "view-in-github",
        "colab_type": "text"
      },
      "source": [
        "<a href=\"https://colab.research.google.com/github/koushikjoshi/Political-Sentiment-Analysis/blob/main/twitter_sentiment_predictor.ipynb\" target=\"_parent\"><img src=\"https://colab.research.google.com/assets/colab-badge.svg\" alt=\"Open In Colab\"/></a>"
      ]
    },
    {
      "cell_type": "markdown",
      "metadata": {
        "id": "qZVC0nIWdF0V"
      },
      "source": [
        "Import the following libraries"
      ]
    },
    {
      "cell_type": "code",
      "metadata": {
        "id": "2JxWWtvLLa7Z"
      },
      "source": [
        "import pickle\n",
        "import tensorflow as tf\n",
        "import re\n",
        "import nltk\n",
        "from nltk.corpus import stopwords\n",
        "from  nltk.stem import SnowballStemmer\n",
        "from tensorflow.keras.preprocessing.sequence import pad_sequences"
      ],
      "execution_count": null,
      "outputs": []
    },
    {
      "cell_type": "code",
      "metadata": {
        "id": "HHkLw1A7Lzdf"
      },
      "source": [
        "twitter_model = tf.keras.models.load_model('twitter_model.h5')"
      ],
      "execution_count": null,
      "outputs": []
    },
    {
      "cell_type": "code",
      "metadata": {
        "id": "fq-zelt0MBQK"
      },
      "source": [
        "with open('twitter_tokenizer.pickle', 'rb') as handle:\n",
        "    twitter_tokenizer = pickle.load(handle)"
      ],
      "execution_count": null,
      "outputs": []
    },
    {
      "cell_type": "code",
      "metadata": {
        "colab": {
          "base_uri": "https://localhost:8080/"
        },
        "id": "caUosPBSOBO1",
        "outputId": "34c70bd3-f9eb-4d00-a90a-ee0eda13fcb6"
      },
      "source": [
        "nltk.download('stopwords')\n",
        "stop_words = stopwords.words(\"english\")\n",
        "stemmer = SnowballStemmer(\"english\")"
      ],
      "execution_count": null,
      "outputs": [
        {
          "output_type": "stream",
          "text": [
            "[nltk_data] Downloading package stopwords to /root/nltk_data...\n",
            "[nltk_data]   Package stopwords is already up-to-date!\n"
          ],
          "name": "stdout"
        }
      ]
    },
    {
      "cell_type": "markdown",
      "metadata": {
        "id": "LeW0bmrwdr8c"
      },
      "source": [
        "**Run the below function only once**"
      ]
    },
    {
      "cell_type": "code",
      "metadata": {
        "id": "U3OSGCxBNrb7"
      },
      "source": [
        "def preprocess(text, stem=False):\n",
        "    text = re.sub(\"@\\S+|https?:\\S+|http?:\\S|[^A-Za-z0-9]+\", ' ', str(text).lower()).strip()\n",
        "    tokens = []\n",
        "    for token in text.split():\n",
        "        if token not in stop_words:\n",
        "            if stem:\n",
        "                tokens.append(stemmer.stem(token))\n",
        "            else:\n",
        "                tokens.append(token)\n",
        "    return \" \".join(tokens)"
      ],
      "execution_count": null,
      "outputs": []
    },
    {
      "cell_type": "markdown",
      "metadata": {
        "id": "IOnSTKBagvhs"
      },
      "source": [
        "------------------------------------**Run everything above this line only once**-----------------------------------------"
      ]
    },
    {
      "cell_type": "markdown",
      "metadata": {
        "id": "bAGEMz91eJ2O"
      },
      "source": [
        "**Run the below function every time you want a prediction**\n",
        "\n",
        "input type :\n",
        "  \n",
        "*   text -> str\n",
        "*   tokenizer -> Keras Tokenizer (twitter_tokenizer)\n",
        "*   Model -> Keras Model (twitter_model)\n",
        "\n",
        "output type :\n",
        "\n",
        "*   result -> float (value between 0 and 1)\n",
        "\n"
      ]
    },
    {
      "cell_type": "code",
      "metadata": {
        "id": "d4f4JON4OT9f"
      },
      "source": [
        "def text_prediction(text, tokenizer, model):\n",
        "  sen = [preprocess(text)]\n",
        "  seq = tokenizer.texts_to_sequences(sen)\n",
        "  pad = pad_sequences(seq, maxlen=200, truncating='post')\n",
        "  result = model.predict(pad)\n",
        "  return result[0][0]\n",
        "\n"
      ],
      "execution_count": null,
      "outputs": []
    },
    {
      "cell_type": "markdown",
      "metadata": {
        "id": "N8vVQpoagFBg"
      },
      "source": [
        "**Refer the below example**"
      ]
    },
    {
      "cell_type": "code",
      "metadata": {
        "id": "MWXChbUMMRzh"
      },
      "source": [
        "tweet = 'Is it Government ? How can u enforce lockdown without any pre notice?. Ridiculous, We know it’s impt to prevent #COVID19 but it’s spreading only bcs of the negligence of the govt, the reason is u enjoyed Kumb Mela, Elections & etc. #Karnatakalockdown'"
      ],
      "execution_count": null,
      "outputs": []
    },
    {
      "cell_type": "code",
      "metadata": {
        "id": "yTRY_4RvSYai"
      },
      "source": [
        "predicton = text_prediction(tweet, twitter_tokenizer, twitter_model)"
      ],
      "execution_count": null,
      "outputs": []
    },
    {
      "cell_type": "code",
      "metadata": {
        "colab": {
          "base_uri": "https://localhost:8080/"
        },
        "id": "tNRrxXlLVnIG",
        "outputId": "f7f5996c-68bf-4ba4-f87a-7d7e739c0d65"
      },
      "source": [
        "print(predicton)"
      ],
      "execution_count": null,
      "outputs": [
        {
          "output_type": "stream",
          "text": [
            "0.63559896\n"
          ],
          "name": "stdout"
        }
      ]
    }
  ]
}