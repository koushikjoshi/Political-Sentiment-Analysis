{
  "nbformat": 4,
  "nbformat_minor": 0,
  "metadata": {
    "accelerator": "GPU",
    "colab": {
      "name": "CNN_twitter.ipynb",
      "provenance": [],
      "collapsed_sections": []
    },
    "kernelspec": {
      "display_name": "Python 3",
      "name": "python3"
    },
    "language_info": {
      "name": "python"
    }
  },
  "cells": [
    {
      "cell_type": "code",
      "metadata": {
        "id": "OIpukgW3oHQL"
      },
      "source": [
        "import pandas as pd  \n",
        "import numpy as np\n",
        "import matplotlib.pyplot as plt\n",
        "plt.style.use('fivethirtyeight')\n",
        "\n",
        "%matplotlib inline\n",
        "%config InlineBackend.figure_format = 'retina'"
      ],
      "execution_count": 1,
      "outputs": []
    },
    {
      "cell_type": "code",
      "metadata": {
        "colab": {
          "base_uri": "https://localhost:8080/",
          "height": 203
        },
        "id": "Ob5ULlpnorh5",
        "outputId": "ef9e7330-96e8-44db-ea00-0d7a20f2c294"
      },
      "source": [
        "csv = 'twitter_data_2.csv'\n",
        "my_df = pd.read_csv(csv)\n",
        "my_df.head()"
      ],
      "execution_count": 2,
      "outputs": [
        {
          "output_type": "execute_result",
          "data": {
            "text/html": [
              "<div>\n",
              "<style scoped>\n",
              "    .dataframe tbody tr th:only-of-type {\n",
              "        vertical-align: middle;\n",
              "    }\n",
              "\n",
              "    .dataframe tbody tr th {\n",
              "        vertical-align: top;\n",
              "    }\n",
              "\n",
              "    .dataframe thead th {\n",
              "        text-align: right;\n",
              "    }\n",
              "</style>\n",
              "<table border=\"1\" class=\"dataframe\">\n",
              "  <thead>\n",
              "    <tr style=\"text-align: right;\">\n",
              "      <th></th>\n",
              "      <th>clean_text</th>\n",
              "      <th>category</th>\n",
              "    </tr>\n",
              "  </thead>\n",
              "  <tbody>\n",
              "    <tr>\n",
              "      <th>0</th>\n",
              "      <td>when modi promised â€œminimum government maxim...</td>\n",
              "      <td>-1</td>\n",
              "    </tr>\n",
              "    <tr>\n",
              "      <th>1</th>\n",
              "      <td>talk all the nonsense and continue all the dra...</td>\n",
              "      <td>0</td>\n",
              "    </tr>\n",
              "    <tr>\n",
              "      <th>2</th>\n",
              "      <td>what did just say vote for modi  welcome bjp t...</td>\n",
              "      <td>1</td>\n",
              "    </tr>\n",
              "    <tr>\n",
              "      <th>3</th>\n",
              "      <td>asking his supporters prefix chowkidar their n...</td>\n",
              "      <td>1</td>\n",
              "    </tr>\n",
              "    <tr>\n",
              "      <th>4</th>\n",
              "      <td>answer who among these the most powerful world...</td>\n",
              "      <td>1</td>\n",
              "    </tr>\n",
              "  </tbody>\n",
              "</table>\n",
              "</div>"
            ],
            "text/plain": [
              "                                          clean_text  category\n",
              "0  when modi promised â€œminimum government maxim...        -1\n",
              "1  talk all the nonsense and continue all the dra...         0\n",
              "2  what did just say vote for modi  welcome bjp t...         1\n",
              "3  asking his supporters prefix chowkidar their n...         1\n",
              "4  answer who among these the most powerful world...         1"
            ]
          },
          "metadata": {
            "tags": []
          },
          "execution_count": 2
        }
      ]
    },
    {
      "cell_type": "code",
      "metadata": {
        "colab": {
          "base_uri": "https://localhost:8080/"
        },
        "id": "v0dI_5bSovHG",
        "outputId": "bd09b5e9-4263-48a0-e2a4-2e5bd57aae83"
      },
      "source": [
        "my_df.dropna(inplace=True)\n",
        "my_df.reset_index(drop=True,inplace=True)\n",
        "my_df.info()"
      ],
      "execution_count": 3,
      "outputs": [
        {
          "output_type": "stream",
          "text": [
            "<class 'pandas.core.frame.DataFrame'>\n",
            "RangeIndex: 49998 entries, 0 to 49997\n",
            "Data columns (total 2 columns):\n",
            " #   Column      Non-Null Count  Dtype \n",
            "---  ------      --------------  ----- \n",
            " 0   clean_text  49998 non-null  object\n",
            " 1   category    49998 non-null  int64 \n",
            "dtypes: int64(1), object(1)\n",
            "memory usage: 781.3+ KB\n"
          ],
          "name": "stdout"
        }
      ]
    },
    {
      "cell_type": "code",
      "metadata": {
        "id": "nSbwNp03o4CQ"
      },
      "source": [
        "x = my_df.clean_text\n",
        "y = my_df.category"
      ],
      "execution_count": 4,
      "outputs": []
    },
    {
      "cell_type": "code",
      "metadata": {
        "id": "o99KrubYo9vH"
      },
      "source": [
        "from sklearn.model_selection import train_test_split\n",
        "SEED = 2000\n",
        "x_train, x_validation_and_test, y_train, y_validation_and_test = train_test_split(x, y, test_size=.02, random_state=SEED)\n",
        "x_validation, x_test, y_validation, y_test = train_test_split(x_validation_and_test, y_validation_and_test, test_size=.5, random_state=SEED)"
      ],
      "execution_count": 5,
      "outputs": []
    },
    {
      "cell_type": "code",
      "metadata": {
        "colab": {
          "base_uri": "https://localhost:8080/"
        },
        "id": "q3z5uzKipXfB",
        "outputId": "fbaa9ac5-29d5-4941-d3b7-28c41c90d861"
      },
      "source": [
        "from tqdm import tqdm\n",
        "tqdm.pandas(desc=\"progress-bar\")\n",
        "import gensim\n",
        "from gensim.models.word2vec import Word2Vec\n",
        "from gensim.models.doc2vec import TaggedDocument\n",
        "import multiprocessing\n",
        "from sklearn import utils\n"
      ],
      "execution_count": 6,
      "outputs": [
        {
          "output_type": "stream",
          "text": [
            "/usr/local/lib/python3.7/dist-packages/tqdm/std.py:658: FutureWarning: The Panel class is removed from pandas. Accessing it from the top-level namespace will also be removed in the next version\n",
            "  from pandas import Panel\n"
          ],
          "name": "stderr"
        }
      ]
    },
    {
      "cell_type": "code",
      "metadata": {
        "id": "mO9fmP7zpp1M"
      },
      "source": [
        "def labelize_tweets_ug(tweets,label):\n",
        "    result = []\n",
        "    prefix = label\n",
        "    for i, t in zip(tweets.index, tweets):\n",
        "        result.append(TaggedDocument(t.split(), [prefix + '_%s' % i]))\n",
        "    return result"
      ],
      "execution_count": 7,
      "outputs": []
    },
    {
      "cell_type": "code",
      "metadata": {
        "id": "UBc8gVDoqBKb"
      },
      "source": [
        "all_x = pd.concat([x_train,x_validation,x_test])\n",
        "all_x_w2v = labelize_tweets_ug(all_x, 'all')"
      ],
      "execution_count": 8,
      "outputs": []
    },
    {
      "cell_type": "code",
      "metadata": {
        "colab": {
          "base_uri": "https://localhost:8080/"
        },
        "id": "BlL_RiS1qGtq",
        "outputId": "df82e778-4e43-4f6a-f3a1-25894bd9e84e"
      },
      "source": [
        "cores = multiprocessing.cpu_count()\n",
        "model_ug_cbow = Word2Vec(sg=0, size=100, negative=5, window=2, min_count=2, workers=cores, alpha=0.065, min_alpha=0.065)\n",
        "model_ug_cbow.build_vocab([x.words for x in tqdm(all_x_w2v)])\n"
      ],
      "execution_count": 9,
      "outputs": [
        {
          "output_type": "stream",
          "text": [
            "100%|██████████| 49998/49998 [00:00<00:00, 2380894.55it/s]\n"
          ],
          "name": "stderr"
        }
      ]
    },
    {
      "cell_type": "code",
      "metadata": {
        "colab": {
          "base_uri": "https://localhost:8080/"
        },
        "id": "6mblPa5qqYA0",
        "outputId": "ed8d964b-6f91-43ad-cb5c-48cd1878965b"
      },
      "source": [
        "%%time\n",
        "for epoch in range(30):\n",
        "    model_ug_cbow.train(utils.shuffle([x.words for x in tqdm(all_x_w2v)]), total_examples=len(all_x_w2v), epochs=1)\n",
        "    model_ug_cbow.alpha -= 0.002\n",
        "    model_ug_cbow.min_alpha = model_ug_cbow.alpha\n"
      ],
      "execution_count": 10,
      "outputs": [
        {
          "output_type": "stream",
          "text": [
            "100%|██████████| 49998/49998 [00:00<00:00, 2259333.44it/s]\n",
            "100%|██████████| 49998/49998 [00:00<00:00, 2517549.18it/s]\n",
            "100%|██████████| 49998/49998 [00:00<00:00, 2496985.28it/s]\n",
            "100%|██████████| 49998/49998 [00:00<00:00, 2426488.14it/s]\n",
            "100%|██████████| 49998/49998 [00:00<00:00, 2594289.67it/s]\n",
            "100%|██████████| 49998/49998 [00:00<00:00, 2563245.59it/s]\n",
            "100%|██████████| 49998/49998 [00:00<00:00, 2601401.90it/s]\n",
            "100%|██████████| 49998/49998 [00:00<00:00, 2601176.03it/s]\n",
            "100%|██████████| 49998/49998 [00:00<00:00, 2597149.19it/s]\n",
            "100%|██████████| 49998/49998 [00:00<00:00, 2614504.75it/s]\n",
            "100%|██████████| 49998/49998 [00:00<00:00, 2548263.68it/s]\n",
            "100%|██████████| 49998/49998 [00:00<00:00, 2484177.49it/s]\n",
            "100%|██████████| 49998/49998 [00:00<00:00, 2370988.40it/s]\n",
            "100%|██████████| 49998/49998 [00:00<00:00, 2579483.03it/s]\n",
            "100%|██████████| 49998/49998 [00:00<00:00, 2617768.43it/s]\n",
            "100%|██████████| 49998/49998 [00:00<00:00, 2672071.09it/s]\n",
            "100%|██████████| 49998/49998 [00:00<00:00, 2778677.77it/s]\n",
            "100%|██████████| 49998/49998 [00:00<00:00, 2599950.55it/s]\n",
            "100%|██████████| 49998/49998 [00:00<00:00, 2624353.15it/s]\n",
            "100%|██████████| 49998/49998 [00:00<00:00, 2623105.74it/s]\n",
            "100%|██████████| 49998/49998 [00:00<00:00, 2566822.25it/s]\n",
            "100%|██████████| 49998/49998 [00:00<00:00, 2418931.08it/s]\n",
            "100%|██████████| 49998/49998 [00:00<00:00, 2299618.51it/s]\n",
            "100%|██████████| 49998/49998 [00:00<00:00, 2256464.79it/s]\n",
            "100%|██████████| 49998/49998 [00:00<00:00, 2657645.22it/s]\n",
            "100%|██████████| 49998/49998 [00:00<00:00, 2549967.92it/s]\n",
            "100%|██████████| 49998/49998 [00:00<00:00, 2590444.10it/s]\n",
            "100%|██████████| 49998/49998 [00:00<00:00, 2602176.62it/s]\n",
            "100%|██████████| 49998/49998 [00:00<00:00, 2430312.57it/s]\n",
            "100%|██████████| 49998/49998 [00:00<00:00, 2509955.85it/s]\n"
          ],
          "name": "stderr"
        },
        {
          "output_type": "stream",
          "text": [
            "CPU times: user 58.1 s, sys: 328 ms, total: 58.4 s\n",
            "Wall time: 31.3 s\n"
          ],
          "name": "stdout"
        }
      ]
    },
    {
      "cell_type": "code",
      "metadata": {
        "colab": {
          "base_uri": "https://localhost:8080/"
        },
        "id": "CALW2TxWsKHo",
        "outputId": "d01837cc-3e6b-4216-96e7-1b0b547b1a43"
      },
      "source": [
        "model_ug_sg = Word2Vec(sg=1, size=100, negative=5, window=2, min_count=2, workers=cores, alpha=0.065, min_alpha=0.065)\n",
        "model_ug_sg.build_vocab([x.words for x in tqdm(all_x_w2v)])"
      ],
      "execution_count": 11,
      "outputs": [
        {
          "output_type": "stream",
          "text": [
            "100%|██████████| 49998/49998 [00:00<00:00, 1647809.37it/s]\n"
          ],
          "name": "stderr"
        }
      ]
    },
    {
      "cell_type": "code",
      "metadata": {
        "colab": {
          "base_uri": "https://localhost:8080/"
        },
        "id": "KhcQZTX9sW5M",
        "outputId": "732f9d01-cb63-40e1-a821-4ca937ecbe79"
      },
      "source": [
        "%%time\n",
        "for epoch in range(30):\n",
        "    model_ug_sg.train(utils.shuffle([x.words for x in tqdm(all_x_w2v)]), total_examples=len(all_x_w2v), epochs=1)\n",
        "    model_ug_sg.alpha -= 0.002\n",
        "    model_ug_sg.min_alpha = model_ug_sg.alpha\n"
      ],
      "execution_count": 12,
      "outputs": [
        {
          "output_type": "stream",
          "text": [
            "100%|██████████| 49998/49998 [00:00<00:00, 2032436.63it/s]\n",
            "100%|██████████| 49998/49998 [00:00<00:00, 2280760.57it/s]\n",
            "100%|██████████| 49998/49998 [00:00<00:00, 2639780.61it/s]\n",
            "100%|██████████| 49998/49998 [00:00<00:00, 1788483.22it/s]\n",
            "100%|██████████| 49998/49998 [00:00<00:00, 2647947.01it/s]\n",
            "100%|██████████| 49998/49998 [00:00<00:00, 2586769.44it/s]\n",
            "100%|██████████| 49998/49998 [00:00<00:00, 2241966.40it/s]\n",
            "100%|██████████| 49998/49998 [00:00<00:00, 2607418.05it/s]\n",
            "100%|██████████| 49998/49998 [00:00<00:00, 2608585.68it/s]\n",
            "100%|██████████| 49998/49998 [00:00<00:00, 2682633.31it/s]\n",
            "100%|██████████| 49998/49998 [00:00<00:00, 2668093.48it/s]\n",
            "100%|██████████| 49998/49998 [00:00<00:00, 2542825.41it/s]\n",
            "100%|██████████| 49998/49998 [00:00<00:00, 2576567.29it/s]\n",
            "100%|██████████| 49998/49998 [00:00<00:00, 2392575.06it/s]\n",
            "100%|██████████| 49998/49998 [00:00<00:00, 2557805.64it/s]\n",
            "100%|██████████| 49998/49998 [00:00<00:00, 2707850.98it/s]\n",
            "100%|██████████| 49998/49998 [00:00<00:00, 2778493.69it/s]\n",
            "100%|██████████| 49998/49998 [00:00<00:00, 2641343.32it/s]\n",
            "100%|██████████| 49998/49998 [00:00<00:00, 2580594.01it/s]\n",
            "100%|██████████| 49998/49998 [00:00<00:00, 2609202.35it/s]\n",
            "100%|██████████| 49998/49998 [00:00<00:00, 2118528.81it/s]\n",
            "100%|██████████| 49998/49998 [00:00<00:00, 2430819.65it/s]\n",
            "100%|██████████| 49998/49998 [00:00<00:00, 2597245.69it/s]\n",
            "100%|██████████| 49998/49998 [00:00<00:00, 2784729.12it/s]\n",
            "100%|██████████| 49998/49998 [00:00<00:00, 2630509.04it/s]\n",
            "100%|██████████| 49998/49998 [00:00<00:00, 2190446.86it/s]\n",
            "100%|██████████| 49998/49998 [00:00<00:00, 2545757.95it/s]\n",
            "100%|██████████| 49998/49998 [00:00<00:00, 1826062.22it/s]\n",
            "100%|██████████| 49998/49998 [00:00<00:00, 2325631.14it/s]\n",
            "100%|██████████| 49998/49998 [00:00<00:00, 2397992.15it/s]\n"
          ],
          "name": "stderr"
        },
        {
          "output_type": "stream",
          "text": [
            "CPU times: user 1min 53s, sys: 440 ms, total: 1min 53s\n",
            "Wall time: 59.1 s\n"
          ],
          "name": "stdout"
        }
      ]
    },
    {
      "cell_type": "code",
      "metadata": {
        "id": "-PBnl8Mzt7Jy"
      },
      "source": [
        "model_ug_cbow.save('w2v_model_ug_cbow.word2vec')\n",
        "model_ug_sg.save('w2v_model_ug_sg.word2vec')"
      ],
      "execution_count": 13,
      "outputs": []
    },
    {
      "cell_type": "code",
      "metadata": {
        "id": "Ad4WfvIXuO7g"
      },
      "source": [
        "#prepare for CNN\n",
        "from gensim.models import KeyedVectors\n",
        "model_ug_cbow = KeyedVectors.load('w2v_model_ug_cbow.word2vec')\n",
        "model_ug_sg = KeyedVectors.load('w2v_model_ug_sg.word2vec')\n"
      ],
      "execution_count": 14,
      "outputs": []
    },
    {
      "cell_type": "code",
      "metadata": {
        "colab": {
          "base_uri": "https://localhost:8080/"
        },
        "id": "eVNrxufVuUH-",
        "outputId": "6f9c4f9b-322f-48bf-f5ba-52ba5a755b49"
      },
      "source": [
        "len(model_ug_cbow.wv.vocab.keys())"
      ],
      "execution_count": 15,
      "outputs": [
        {
          "output_type": "execute_result",
          "data": {
            "text/plain": [
              "21638"
            ]
          },
          "metadata": {
            "tags": []
          },
          "execution_count": 15
        }
      ]
    },
    {
      "cell_type": "code",
      "metadata": {
        "colab": {
          "base_uri": "https://localhost:8080/"
        },
        "id": "X75PUNGNuWTC",
        "outputId": "fe6967eb-76f9-404d-aded-56192a1447ad"
      },
      "source": [
        "embeddings_index = {}\n",
        "for w in model_ug_cbow.wv.vocab.keys():\n",
        "    embeddings_index[w] = np.append(model_ug_cbow.wv[w],model_ug_sg.wv[w])\n",
        "print('Found %s word vectors.' % len(embeddings_index))\n"
      ],
      "execution_count": 16,
      "outputs": [
        {
          "output_type": "stream",
          "text": [
            "Found 21638 word vectors.\n"
          ],
          "name": "stdout"
        }
      ]
    },
    {
      "cell_type": "code",
      "metadata": {
        "id": "Itdit4q8uYTi"
      },
      "source": [
        "from keras.preprocessing.text import Tokenizer\n",
        "from keras.preprocessing.sequence import pad_sequences\n",
        "\n",
        "tokenizer = Tokenizer(num_words=100000)\n",
        "tokenizer.fit_on_texts(x_train)\n",
        "sequences = tokenizer.texts_to_sequences(x_train)\n"
      ],
      "execution_count": 17,
      "outputs": []
    },
    {
      "cell_type": "code",
      "metadata": {
        "colab": {
          "base_uri": "https://localhost:8080/"
        },
        "id": "R0LLH5NlubIJ",
        "outputId": "40bc2f7f-4f18-4989-a000-bce291a60115"
      },
      "source": [
        "len(tokenizer.word_index)"
      ],
      "execution_count": 18,
      "outputs": [
        {
          "output_type": "execute_result",
          "data": {
            "text/plain": [
              "51836"
            ]
          },
          "metadata": {
            "tags": []
          },
          "execution_count": 18
        }
      ]
    },
    {
      "cell_type": "code",
      "metadata": {
        "colab": {
          "base_uri": "https://localhost:8080/"
        },
        "id": "R671vY_vuec_",
        "outputId": "ff83b529-9a48-4cb6-c35b-60c56c84e71f"
      },
      "source": [
        "for x in x_train[:5]:\n",
        "    print(x)"
      ],
      "execution_count": 19,
      "outputs": [
        {
          "output_type": "stream",
          "text": [
            "nationalist think why should stand behind modiji\n",
            "tourism receives major boost under modi government\n",
            "\n",
            "kunal kamra pretentious chutiya modi did more work the last five years than the braincells you have lost since your birth while smoking weed\n",
            "top cabinet ministers including national security advisor residence his announcement related security stay tuned \n",
            "its was failure govt that why modi govt gave free hands army and decide the strike\n",
            "this mentality why progressives totally unhinged when they see narendra modi become prime minister after starting out streetside tea vendor does not compute \n"
          ],
          "name": "stdout"
        }
      ]
    },
    {
      "cell_type": "code",
      "metadata": {
        "colab": {
          "base_uri": "https://localhost:8080/"
        },
        "id": "B8nrvt5AugGz",
        "outputId": "02691195-cdef-46c7-ad33-60c57b7d1297"
      },
      "source": [
        "sequences[:5]\n"
      ],
      "execution_count": 20,
      "outputs": [
        {
          "output_type": "execute_result",
          "data": {
            "text/plain": [
              "[[1226, 93, 33, 56, 492, 547, 414, 2727, 8602, 815, 2019, 83, 1, 76],\n",
              " [6774,\n",
              "  5448,\n",
              "  15453,\n",
              "  1889,\n",
              "  1,\n",
              "  61,\n",
              "  47,\n",
              "  102,\n",
              "  2,\n",
              "  123,\n",
              "  526,\n",
              "  53,\n",
              "  69,\n",
              "  2,\n",
              "  21375,\n",
              "  5,\n",
              "  14,\n",
              "  370,\n",
              "  203,\n",
              "  26,\n",
              "  2230,\n",
              "  232,\n",
              "  4782,\n",
              "  5197],\n",
              " [509, 976, 1023, 726, 192, 371, 5198, 9597, 19, 208, 1227, 371, 847, 4430],\n",
              " [36, 20, 542, 35, 11, 33, 1, 35, 244, 237, 727, 487, 3, 1092, 2, 483],\n",
              " [7,\n",
              "  2394,\n",
              "  33,\n",
              "  12580,\n",
              "  830,\n",
              "  21376,\n",
              "  46,\n",
              "  21,\n",
              "  91,\n",
              "  31,\n",
              "  1,\n",
              "  147,\n",
              "  103,\n",
              "  82,\n",
              "  59,\n",
              "  2164,\n",
              "  64,\n",
              "  21377,\n",
              "  1292,\n",
              "  7271,\n",
              "  165,\n",
              "  8,\n",
              "  12581]]"
            ]
          },
          "metadata": {
            "tags": []
          },
          "execution_count": 20
        }
      ]
    },
    {
      "cell_type": "code",
      "metadata": {
        "id": "uoS5Ks-MulDB"
      },
      "source": [
        "length = []\n",
        "for x in x_train:\n",
        "    length.append(len(x.split()))"
      ],
      "execution_count": 21,
      "outputs": []
    },
    {
      "cell_type": "code",
      "metadata": {
        "colab": {
          "base_uri": "https://localhost:8080/"
        },
        "id": "0j2e9KDWungV",
        "outputId": "c454c50b-5051-455b-965a-f629e629a0fa"
      },
      "source": [
        "max(length)\n"
      ],
      "execution_count": 22,
      "outputs": [
        {
          "output_type": "execute_result",
          "data": {
            "text/plain": [
              "49"
            ]
          },
          "metadata": {
            "tags": []
          },
          "execution_count": 22
        }
      ]
    },
    {
      "cell_type": "code",
      "metadata": {
        "colab": {
          "base_uri": "https://localhost:8080/"
        },
        "id": "4or0ZhReupA4",
        "outputId": "c8b19957-e55b-447f-c1d8-17f2d4e89186"
      },
      "source": [
        "x_train_seq = pad_sequences(sequences, maxlen=45)\n",
        "print('Shape of data tensor:', x_train_seq.shape)\n"
      ],
      "execution_count": 23,
      "outputs": [
        {
          "output_type": "stream",
          "text": [
            "Shape of data tensor: (48998, 45)\n"
          ],
          "name": "stdout"
        }
      ]
    },
    {
      "cell_type": "code",
      "metadata": {
        "colab": {
          "base_uri": "https://localhost:8080/"
        },
        "id": "3gIYf5pSuqzP",
        "outputId": "ebdf83e0-edd5-4f23-f988-b3fd08797bf4"
      },
      "source": [
        "x_train_seq[:5]"
      ],
      "execution_count": 24,
      "outputs": [
        {
          "output_type": "execute_result",
          "data": {
            "text/plain": [
              "array([[    0,     0,     0,     0,     0,     0,     0,     0,     0,\n",
              "            0,     0,     0,     0,     0,     0,     0,     0,     0,\n",
              "            0,     0,     0,     0,     0,     0,     0,     0,     0,\n",
              "            0,     0,     0,     0,  1226,    93,    33,    56,   492,\n",
              "          547,   414,  2727,  8602,   815,  2019,    83,     1,    76],\n",
              "       [    0,     0,     0,     0,     0,     0,     0,     0,     0,\n",
              "            0,     0,     0,     0,     0,     0,     0,     0,     0,\n",
              "            0,     0,     0,  6774,  5448, 15453,  1889,     1,    61,\n",
              "           47,   102,     2,   123,   526,    53,    69,     2, 21375,\n",
              "            5,    14,   370,   203,    26,  2230,   232,  4782,  5197],\n",
              "       [    0,     0,     0,     0,     0,     0,     0,     0,     0,\n",
              "            0,     0,     0,     0,     0,     0,     0,     0,     0,\n",
              "            0,     0,     0,     0,     0,     0,     0,     0,     0,\n",
              "            0,     0,     0,     0,   509,   976,  1023,   726,   192,\n",
              "          371,  5198,  9597,    19,   208,  1227,   371,   847,  4430],\n",
              "       [    0,     0,     0,     0,     0,     0,     0,     0,     0,\n",
              "            0,     0,     0,     0,     0,     0,     0,     0,     0,\n",
              "            0,     0,     0,     0,     0,     0,     0,     0,     0,\n",
              "            0,     0,    36,    20,   542,    35,    11,    33,     1,\n",
              "           35,   244,   237,   727,   487,     3,  1092,     2,   483],\n",
              "       [    0,     0,     0,     0,     0,     0,     0,     0,     0,\n",
              "            0,     0,     0,     0,     0,     0,     0,     0,     0,\n",
              "            0,     0,     0,     0,     7,  2394,    33, 12580,   830,\n",
              "        21376,    46,    21,    91,    31,     1,   147,   103,    82,\n",
              "           59,  2164,    64, 21377,  1292,  7271,   165,     8, 12581]],\n",
              "      dtype=int32)"
            ]
          },
          "metadata": {
            "tags": []
          },
          "execution_count": 24
        }
      ]
    },
    {
      "cell_type": "code",
      "metadata": {
        "id": "7XGPlO_2us0o"
      },
      "source": [
        "sequences_val = tokenizer.texts_to_sequences(x_validation)\n",
        "x_val_seq = pad_sequences(sequences_val, maxlen=45)"
      ],
      "execution_count": 25,
      "outputs": []
    },
    {
      "cell_type": "code",
      "metadata": {
        "id": "vE4QEtCjuvTF"
      },
      "source": [
        "num_words = 100000\n",
        "embedding_matrix = np.zeros((num_words, 200))\n",
        "for word, i in tokenizer.word_index.items():\n",
        "    if i >= num_words:\n",
        "        continue\n",
        "    embedding_vector = embeddings_index.get(word)\n",
        "    if embedding_vector is not None:\n",
        "        embedding_matrix[i] = embedding_vector\n"
      ],
      "execution_count": 26,
      "outputs": []
    },
    {
      "cell_type": "code",
      "metadata": {
        "colab": {
          "base_uri": "https://localhost:8080/"
        },
        "id": "hshMYB3XuxHw",
        "outputId": "21af2aad-a1f4-4ae6-c69a-28a5b5ef38ce"
      },
      "source": [
        "np.array_equal(embedding_matrix[6] ,embeddings_index.get('you'))\n"
      ],
      "execution_count": 27,
      "outputs": [
        {
          "output_type": "execute_result",
          "data": {
            "text/plain": [
              "False"
            ]
          },
          "metadata": {
            "tags": []
          },
          "execution_count": 27
        }
      ]
    },
    {
      "cell_type": "code",
      "metadata": {
        "id": "pcETDkLNuytA"
      },
      "source": [
        "seed = 7\n",
        "\n",
        "from keras.models import Sequential\n",
        "from keras.layers import Dense, Dropout\n",
        "from keras.layers import Flatten\n",
        "from keras.layers.embeddings import Embedding"
      ],
      "execution_count": 28,
      "outputs": []
    },
    {
      "cell_type": "code",
      "metadata": {
        "colab": {
          "base_uri": "https://localhost:8080/"
        },
        "id": "Z0d_fdrMu2dH",
        "outputId": "858f2bda-e170-4943-9520-b208ccd1a12a"
      },
      "source": [
        "model_ptw2v = Sequential()\n",
        "e = Embedding(100000, 200, weights=[embedding_matrix], input_length=45, trainable=False)\n",
        "model_ptw2v.add(e)\n",
        "model_ptw2v.add(Flatten())\n",
        "model_ptw2v.add(Dense(256, activation='relu'))\n",
        "model_ptw2v.add(Dense(1, activation='sigmoid'))\n",
        "model_ptw2v.compile(loss='binary_crossentropy', optimizer='adam', metrics=['accuracy'])\n",
        "model_ptw2v.fit(x_train_seq, y_train, validation_data=(x_val_seq, y_validation), epochs=5, batch_size=16, verbose=2)\n"
      ],
      "execution_count": 29,
      "outputs": [
        {
          "output_type": "stream",
          "text": [
            "Epoch 1/5\n",
            "3063/3063 - 18s - loss: -8.5894e-01 - accuracy: 0.4424 - val_loss: -4.0787e+00 - val_accuracy: 0.4480\n",
            "Epoch 2/5\n",
            "3063/3063 - 6s - loss: -6.4474e+01 - accuracy: 0.4737 - val_loss: -9.2044e+01 - val_accuracy: 0.4600\n",
            "Epoch 3/5\n",
            "3063/3063 - 6s - loss: -3.5132e+02 - accuracy: 0.4926 - val_loss: -2.9840e+02 - val_accuracy: 0.4800\n",
            "Epoch 4/5\n",
            "3063/3063 - 6s - loss: -8.9109e+02 - accuracy: 0.5067 - val_loss: -6.1698e+02 - val_accuracy: 0.4760\n",
            "Epoch 5/5\n",
            "3063/3063 - 6s - loss: -1.6820e+03 - accuracy: 0.5138 - val_loss: -9.8182e+02 - val_accuracy: 0.4720\n"
          ],
          "name": "stdout"
        },
        {
          "output_type": "execute_result",
          "data": {
            "text/plain": [
              "<keras.callbacks.History at 0x7fc1e40239d0>"
            ]
          },
          "metadata": {
            "tags": []
          },
          "execution_count": 29
        }
      ]
    },
    {
      "cell_type": "code",
      "metadata": {
        "id": "X7mRyODRu5MR"
      },
      "source": [
        "from keras.layers import Conv1D, GlobalMaxPooling1D"
      ],
      "execution_count": 30,
      "outputs": []
    },
    {
      "cell_type": "code",
      "metadata": {
        "colab": {
          "base_uri": "https://localhost:8080/"
        },
        "id": "EC0_Wvt1x4AT",
        "outputId": "ef0296da-b460-4e9f-f7d5-7e7c0f69d86d"
      },
      "source": [
        "structure_test = Sequential()\n",
        "e = Embedding(100000, 200, input_length=45)\n",
        "structure_test.add(e)\n",
        "structure_test.add(Conv1D(filters=100, kernel_size=2, padding='valid', activation='relu', strides=1))\n",
        "structure_test.summary()"
      ],
      "execution_count": 31,
      "outputs": [
        {
          "output_type": "stream",
          "text": [
            "Model: \"sequential_1\"\n",
            "_________________________________________________________________\n",
            "Layer (type)                 Output Shape              Param #   \n",
            "=================================================================\n",
            "embedding_1 (Embedding)      (None, 45, 200)           20000000  \n",
            "_________________________________________________________________\n",
            "conv1d (Conv1D)              (None, 44, 100)           40100     \n",
            "=================================================================\n",
            "Total params: 20,040,100\n",
            "Trainable params: 20,040,100\n",
            "Non-trainable params: 0\n",
            "_________________________________________________________________\n"
          ],
          "name": "stdout"
        }
      ]
    },
    {
      "cell_type": "code",
      "metadata": {
        "colab": {
          "base_uri": "https://localhost:8080/"
        },
        "id": "bINm5qHmx6VF",
        "outputId": "603a3ca4-a84b-4979-d180-5001455a69a3"
      },
      "source": [
        "structure_test = Sequential()\n",
        "e = Embedding(100000, 200, input_length=45)\n",
        "structure_test.add(e)\n",
        "structure_test.add(Conv1D(filters=100, kernel_size=2, padding='valid', activation='relu', strides=1))\n",
        "structure_test.summary()"
      ],
      "execution_count": 32,
      "outputs": [
        {
          "output_type": "stream",
          "text": [
            "Model: \"sequential_2\"\n",
            "_________________________________________________________________\n",
            "Layer (type)                 Output Shape              Param #   \n",
            "=================================================================\n",
            "embedding_2 (Embedding)      (None, 45, 200)           20000000  \n",
            "_________________________________________________________________\n",
            "conv1d_1 (Conv1D)            (None, 44, 100)           40100     \n",
            "=================================================================\n",
            "Total params: 20,040,100\n",
            "Trainable params: 20,040,100\n",
            "Non-trainable params: 0\n",
            "_________________________________________________________________\n"
          ],
          "name": "stdout"
        }
      ]
    },
    {
      "cell_type": "code",
      "metadata": {
        "colab": {
          "base_uri": "https://localhost:8080/"
        },
        "id": "7rrCE7fgyB3L",
        "outputId": "4e221bf3-4f5c-4b2c-cc9c-1e63fde5f624"
      },
      "source": [
        "structure_test = Sequential()\n",
        "e = Embedding(100000, 200, input_length=45)\n",
        "structure_test.add(e)\n",
        "structure_test.add(Conv1D(filters=100, kernel_size=2, padding='valid', activation='relu', strides=1))\n",
        "structure_test.add(GlobalMaxPooling1D())\n",
        "structure_test.summary()"
      ],
      "execution_count": 33,
      "outputs": [
        {
          "output_type": "stream",
          "text": [
            "Model: \"sequential_3\"\n",
            "_________________________________________________________________\n",
            "Layer (type)                 Output Shape              Param #   \n",
            "=================================================================\n",
            "embedding_3 (Embedding)      (None, 45, 200)           20000000  \n",
            "_________________________________________________________________\n",
            "conv1d_2 (Conv1D)            (None, 44, 100)           40100     \n",
            "_________________________________________________________________\n",
            "global_max_pooling1d (Global (None, 100)               0         \n",
            "=================================================================\n",
            "Total params: 20,040,100\n",
            "Trainable params: 20,040,100\n",
            "Non-trainable params: 0\n",
            "_________________________________________________________________\n"
          ],
          "name": "stdout"
        }
      ]
    },
    {
      "cell_type": "code",
      "metadata": {
        "colab": {
          "base_uri": "https://localhost:8080/"
        },
        "id": "ukEwoQSmyEHR",
        "outputId": "1409ff21-4c50-41de-d808-1abccf358679"
      },
      "source": [
        "#static word vectors extracted from Word2Vec\n",
        "model_cnn_01 = Sequential()\n",
        "e = Embedding(100000, 200, weights=[embedding_matrix], input_length=45, trainable=False)\n",
        "model_cnn_01.add(e)\n",
        "model_cnn_01.add(Conv1D(filters=100, kernel_size=2, padding='valid', activation='relu', strides=1))\n",
        "model_cnn_01.add(GlobalMaxPooling1D())\n",
        "model_cnn_01.add(Dense(256, activation='relu'))\n",
        "model_cnn_01.add(Dense(1, activation='sigmoid'))\n",
        "model_cnn_01.compile(loss='binary_crossentropy', optimizer='adam', metrics=['accuracy'])\n",
        "model_cnn_01.fit(x_train_seq, y_train, validation_data=(x_val_seq, y_validation), epochs=10, batch_size=16, verbose=2)"
      ],
      "execution_count": 34,
      "outputs": [
        {
          "output_type": "stream",
          "text": [
            "Epoch 1/10\n",
            "3063/3063 - 10s - loss: -3.0523e+03 - accuracy: 0.5026 - val_loss: -1.8120e+04 - val_accuracy: 0.5460\n",
            "Epoch 2/10\n",
            "3063/3063 - 7s - loss: -5.0435e+04 - accuracy: 0.5224 - val_loss: -1.3863e+05 - val_accuracy: 0.5460\n",
            "Epoch 3/10\n",
            "3063/3063 - 7s - loss: -1.9720e+05 - accuracy: 0.5235 - val_loss: -4.1150e+05 - val_accuracy: 0.5440\n",
            "Epoch 4/10\n",
            "3063/3063 - 7s - loss: -4.7428e+05 - accuracy: 0.5256 - val_loss: -8.8411e+05 - val_accuracy: 0.5300\n",
            "Epoch 5/10\n",
            "3063/3063 - 7s - loss: -9.1683e+05 - accuracy: 0.5246 - val_loss: -1.5918e+06 - val_accuracy: 0.5360\n",
            "Epoch 6/10\n",
            "3063/3063 - 7s - loss: -1.5649e+06 - accuracy: 0.5251 - val_loss: -2.5863e+06 - val_accuracy: 0.5420\n",
            "Epoch 7/10\n",
            "3063/3063 - 7s - loss: -2.4492e+06 - accuracy: 0.5250 - val_loss: -3.8369e+06 - val_accuracy: 0.5480\n",
            "Epoch 8/10\n",
            "3063/3063 - 7s - loss: -3.5977e+06 - accuracy: 0.5263 - val_loss: -5.5765e+06 - val_accuracy: 0.5440\n",
            "Epoch 9/10\n",
            "3063/3063 - 7s - loss: -5.0482e+06 - accuracy: 0.5269 - val_loss: -7.7152e+06 - val_accuracy: 0.5340\n",
            "Epoch 10/10\n",
            "3063/3063 - 7s - loss: -6.8229e+06 - accuracy: 0.5258 - val_loss: -1.0205e+07 - val_accuracy: 0.5440\n"
          ],
          "name": "stdout"
        },
        {
          "output_type": "execute_result",
          "data": {
            "text/plain": [
              "<keras.callbacks.History at 0x7fc1d224c510>"
            ]
          },
          "metadata": {
            "tags": []
          },
          "execution_count": 34
        }
      ]
    },
    {
      "cell_type": "code",
      "metadata": {
        "id": "9z0VRFEjyJeF",
        "colab": {
          "base_uri": "https://localhost:8080/"
        },
        "outputId": "3d11f3fc-5f97-4d92-865b-9177f1477d38"
      },
      "source": [
        "#word embedding being learned from scratch with embedding layer\n",
        "model_cnn_02 = Sequential()\n",
        "e = Embedding(100000, 200, input_length=45)\n",
        "model_cnn_02.add(e)\n",
        "model_cnn_02.add(Conv1D(filters=100, kernel_size=2, padding='valid', activation='relu', strides=1))\n",
        "model_cnn_02.add(GlobalMaxPooling1D())\n",
        "model_cnn_02.add(Dense(256, activation='relu'))\n",
        "model_cnn_02.add(Dense(1, activation='sigmoid'))\n",
        "model_cnn_02.compile(loss='binary_crossentropy', optimizer='adam', metrics=['accuracy'])\n",
        "model_cnn_02.fit(x_train_seq, y_train, validation_data=(x_val_seq, y_validation), epochs=5, batch_size=32, verbose=2)\n"
      ],
      "execution_count": 35,
      "outputs": [
        {
          "output_type": "stream",
          "text": [
            "Epoch 1/5\n",
            "1532/1532 - 269s - loss: -3.4739e+05 - accuracy: 0.5655 - val_loss: -2.3189e+06 - val_accuracy: 0.5880\n",
            "Epoch 2/5\n",
            "1532/1532 - 267s - loss: -9.5566e+06 - accuracy: 0.6019 - val_loss: -2.9286e+07 - val_accuracy: 0.5920\n",
            "Epoch 3/5\n",
            "1532/1532 - 267s - loss: -5.1903e+07 - accuracy: 0.6052 - val_loss: -1.1423e+08 - val_accuracy: 0.5960\n",
            "Epoch 4/5\n",
            "1532/1532 - 267s - loss: -1.5317e+08 - accuracy: 0.6066 - val_loss: -2.9047e+08 - val_accuracy: 0.6040\n",
            "Epoch 5/5\n",
            "1532/1532 - 266s - loss: -3.4235e+08 - accuracy: 0.6081 - val_loss: -5.9345e+08 - val_accuracy: 0.6040\n"
          ],
          "name": "stdout"
        },
        {
          "output_type": "execute_result",
          "data": {
            "text/plain": [
              "<keras.callbacks.History at 0x7fc1d2c13cd0>"
            ]
          },
          "metadata": {
            "tags": []
          },
          "execution_count": 35
        }
      ]
    },
    {
      "cell_type": "code",
      "metadata": {
        "colab": {
          "base_uri": "https://localhost:8080/",
          "height": 454
        },
        "id": "UX9wOxnfzh6o",
        "outputId": "fc9de999-156b-47f7-bd31-7b206229596d"
      },
      "source": [
        "#Word2Vec word vectors being updated through training.\n",
        "model_cnn_03 = Sequential()\n",
        "e = Embedding(100000, 200, weights=[embedding_matrix], input_length=45, trainable=True)\n",
        "model_cnn_03.add(e)\n",
        "model_cnn_03.add(Conv1D(filters=100, kernel_size=2, padding='valid', activation='relu', strides=1))\n",
        "model_cnn_03.add(GlobalMaxPooling1D())\n",
        "model_cnn_03.add(Dense(256, activation='relu'))\n",
        "model_cnn_03.add(Dense(1, activation='sigmoid'))\n",
        "model_cnn_03.compile(loss='binary_crossentropy', optimizer='adam', metrics=['accuracy'])\n",
        "model_cnn_03.fit(x_train_seq, y_train, validation_data=(x_val_seq, y_validation), epochs=4, batch_size=32, verbose=2)"
      ],
      "execution_count": 37,
      "outputs": [
        {
          "output_type": "stream",
          "text": [
            "Epoch 1/4\n",
            "1532/1532 - 262s - loss: -1.3077e+05 - accuracy: 0.5660 - val_loss: -9.8854e+05 - val_accuracy: 0.6080\n",
            "Epoch 2/4\n",
            "1532/1532 - 260s - loss: -5.1990e+06 - accuracy: 0.6297 - val_loss: -1.6420e+07 - val_accuracy: 0.6180\n",
            "Epoch 3/4\n",
            "1532/1532 - 260s - loss: -3.1344e+07 - accuracy: 0.6373 - val_loss: -6.9443e+07 - val_accuracy: 0.6300\n",
            "Epoch 4/4\n"
          ],
          "name": "stdout"
        },
        {
          "output_type": "error",
          "ename": "KeyboardInterrupt",
          "evalue": "ignored",
          "traceback": [
            "\u001b[0;31m---------------------------------------------------------------------------\u001b[0m",
            "\u001b[0;31mKeyboardInterrupt\u001b[0m                         Traceback (most recent call last)",
            "\u001b[0;32m<ipython-input-37-d74ee51d7df0>\u001b[0m in \u001b[0;36m<module>\u001b[0;34m()\u001b[0m\n\u001b[1;32m      8\u001b[0m \u001b[0mmodel_cnn_03\u001b[0m\u001b[0;34m.\u001b[0m\u001b[0madd\u001b[0m\u001b[0;34m(\u001b[0m\u001b[0mDense\u001b[0m\u001b[0;34m(\u001b[0m\u001b[0;36m1\u001b[0m\u001b[0;34m,\u001b[0m \u001b[0mactivation\u001b[0m\u001b[0;34m=\u001b[0m\u001b[0;34m'sigmoid'\u001b[0m\u001b[0;34m)\u001b[0m\u001b[0;34m)\u001b[0m\u001b[0;34m\u001b[0m\u001b[0;34m\u001b[0m\u001b[0m\n\u001b[1;32m      9\u001b[0m \u001b[0mmodel_cnn_03\u001b[0m\u001b[0;34m.\u001b[0m\u001b[0mcompile\u001b[0m\u001b[0;34m(\u001b[0m\u001b[0mloss\u001b[0m\u001b[0;34m=\u001b[0m\u001b[0;34m'binary_crossentropy'\u001b[0m\u001b[0;34m,\u001b[0m \u001b[0moptimizer\u001b[0m\u001b[0;34m=\u001b[0m\u001b[0;34m'adam'\u001b[0m\u001b[0;34m,\u001b[0m \u001b[0mmetrics\u001b[0m\u001b[0;34m=\u001b[0m\u001b[0;34m[\u001b[0m\u001b[0;34m'accuracy'\u001b[0m\u001b[0;34m]\u001b[0m\u001b[0;34m)\u001b[0m\u001b[0;34m\u001b[0m\u001b[0;34m\u001b[0m\u001b[0m\n\u001b[0;32m---> 10\u001b[0;31m \u001b[0mmodel_cnn_03\u001b[0m\u001b[0;34m.\u001b[0m\u001b[0mfit\u001b[0m\u001b[0;34m(\u001b[0m\u001b[0mx_train_seq\u001b[0m\u001b[0;34m,\u001b[0m \u001b[0my_train\u001b[0m\u001b[0;34m,\u001b[0m \u001b[0mvalidation_data\u001b[0m\u001b[0;34m=\u001b[0m\u001b[0;34m(\u001b[0m\u001b[0mx_val_seq\u001b[0m\u001b[0;34m,\u001b[0m \u001b[0my_validation\u001b[0m\u001b[0;34m)\u001b[0m\u001b[0;34m,\u001b[0m \u001b[0mepochs\u001b[0m\u001b[0;34m=\u001b[0m\u001b[0;36m4\u001b[0m\u001b[0;34m,\u001b[0m \u001b[0mbatch_size\u001b[0m\u001b[0;34m=\u001b[0m\u001b[0;36m32\u001b[0m\u001b[0;34m,\u001b[0m \u001b[0mverbose\u001b[0m\u001b[0;34m=\u001b[0m\u001b[0;36m2\u001b[0m\u001b[0;34m)\u001b[0m\u001b[0;34m\u001b[0m\u001b[0;34m\u001b[0m\u001b[0m\n\u001b[0m",
            "\u001b[0;32m/usr/local/lib/python3.7/dist-packages/keras/engine/training.py\u001b[0m in \u001b[0;36mfit\u001b[0;34m(self, x, y, batch_size, epochs, verbose, callbacks, validation_split, validation_data, shuffle, class_weight, sample_weight, initial_epoch, steps_per_epoch, validation_steps, validation_batch_size, validation_freq, max_queue_size, workers, use_multiprocessing)\u001b[0m\n\u001b[1;32m   1156\u001b[0m                 _r=1):\n\u001b[1;32m   1157\u001b[0m               \u001b[0mcallbacks\u001b[0m\u001b[0;34m.\u001b[0m\u001b[0mon_train_batch_begin\u001b[0m\u001b[0;34m(\u001b[0m\u001b[0mstep\u001b[0m\u001b[0;34m)\u001b[0m\u001b[0;34m\u001b[0m\u001b[0;34m\u001b[0m\u001b[0m\n\u001b[0;32m-> 1158\u001b[0;31m               \u001b[0mtmp_logs\u001b[0m \u001b[0;34m=\u001b[0m \u001b[0mself\u001b[0m\u001b[0;34m.\u001b[0m\u001b[0mtrain_function\u001b[0m\u001b[0;34m(\u001b[0m\u001b[0miterator\u001b[0m\u001b[0;34m)\u001b[0m\u001b[0;34m\u001b[0m\u001b[0;34m\u001b[0m\u001b[0m\n\u001b[0m\u001b[1;32m   1159\u001b[0m               \u001b[0;32mif\u001b[0m \u001b[0mdata_handler\u001b[0m\u001b[0;34m.\u001b[0m\u001b[0mshould_sync\u001b[0m\u001b[0;34m:\u001b[0m\u001b[0;34m\u001b[0m\u001b[0;34m\u001b[0m\u001b[0m\n\u001b[1;32m   1160\u001b[0m                 \u001b[0mcontext\u001b[0m\u001b[0;34m.\u001b[0m\u001b[0masync_wait\u001b[0m\u001b[0;34m(\u001b[0m\u001b[0;34m)\u001b[0m\u001b[0;34m\u001b[0m\u001b[0;34m\u001b[0m\u001b[0m\n",
            "\u001b[0;32m/usr/local/lib/python3.7/dist-packages/tensorflow/python/eager/def_function.py\u001b[0m in \u001b[0;36m__call__\u001b[0;34m(self, *args, **kwds)\u001b[0m\n\u001b[1;32m    887\u001b[0m \u001b[0;34m\u001b[0m\u001b[0m\n\u001b[1;32m    888\u001b[0m       \u001b[0;32mwith\u001b[0m \u001b[0mOptionalXlaContext\u001b[0m\u001b[0;34m(\u001b[0m\u001b[0mself\u001b[0m\u001b[0;34m.\u001b[0m\u001b[0m_jit_compile\u001b[0m\u001b[0;34m)\u001b[0m\u001b[0;34m:\u001b[0m\u001b[0;34m\u001b[0m\u001b[0;34m\u001b[0m\u001b[0m\n\u001b[0;32m--> 889\u001b[0;31m         \u001b[0mresult\u001b[0m \u001b[0;34m=\u001b[0m \u001b[0mself\u001b[0m\u001b[0;34m.\u001b[0m\u001b[0m_call\u001b[0m\u001b[0;34m(\u001b[0m\u001b[0;34m*\u001b[0m\u001b[0margs\u001b[0m\u001b[0;34m,\u001b[0m \u001b[0;34m**\u001b[0m\u001b[0mkwds\u001b[0m\u001b[0;34m)\u001b[0m\u001b[0;34m\u001b[0m\u001b[0;34m\u001b[0m\u001b[0m\n\u001b[0m\u001b[1;32m    890\u001b[0m \u001b[0;34m\u001b[0m\u001b[0m\n\u001b[1;32m    891\u001b[0m       \u001b[0mnew_tracing_count\u001b[0m \u001b[0;34m=\u001b[0m \u001b[0mself\u001b[0m\u001b[0;34m.\u001b[0m\u001b[0mexperimental_get_tracing_count\u001b[0m\u001b[0;34m(\u001b[0m\u001b[0;34m)\u001b[0m\u001b[0;34m\u001b[0m\u001b[0;34m\u001b[0m\u001b[0m\n",
            "\u001b[0;32m/usr/local/lib/python3.7/dist-packages/tensorflow/python/eager/def_function.py\u001b[0m in \u001b[0;36m_call\u001b[0;34m(self, *args, **kwds)\u001b[0m\n\u001b[1;32m    915\u001b[0m       \u001b[0;31m# In this case we have created variables on the first call, so we run the\u001b[0m\u001b[0;34m\u001b[0m\u001b[0;34m\u001b[0m\u001b[0;34m\u001b[0m\u001b[0m\n\u001b[1;32m    916\u001b[0m       \u001b[0;31m# defunned version which is guaranteed to never create variables.\u001b[0m\u001b[0;34m\u001b[0m\u001b[0;34m\u001b[0m\u001b[0;34m\u001b[0m\u001b[0m\n\u001b[0;32m--> 917\u001b[0;31m       \u001b[0;32mreturn\u001b[0m \u001b[0mself\u001b[0m\u001b[0;34m.\u001b[0m\u001b[0m_stateless_fn\u001b[0m\u001b[0;34m(\u001b[0m\u001b[0;34m*\u001b[0m\u001b[0margs\u001b[0m\u001b[0;34m,\u001b[0m \u001b[0;34m**\u001b[0m\u001b[0mkwds\u001b[0m\u001b[0;34m)\u001b[0m  \u001b[0;31m# pylint: disable=not-callable\u001b[0m\u001b[0;34m\u001b[0m\u001b[0;34m\u001b[0m\u001b[0m\n\u001b[0m\u001b[1;32m    918\u001b[0m     \u001b[0;32melif\u001b[0m \u001b[0mself\u001b[0m\u001b[0;34m.\u001b[0m\u001b[0m_stateful_fn\u001b[0m \u001b[0;32mis\u001b[0m \u001b[0;32mnot\u001b[0m \u001b[0;32mNone\u001b[0m\u001b[0;34m:\u001b[0m\u001b[0;34m\u001b[0m\u001b[0;34m\u001b[0m\u001b[0m\n\u001b[1;32m    919\u001b[0m       \u001b[0;31m# Release the lock early so that multiple threads can perform the call\u001b[0m\u001b[0;34m\u001b[0m\u001b[0;34m\u001b[0m\u001b[0;34m\u001b[0m\u001b[0m\n",
            "\u001b[0;32m/usr/local/lib/python3.7/dist-packages/tensorflow/python/eager/function.py\u001b[0m in \u001b[0;36m__call__\u001b[0;34m(self, *args, **kwargs)\u001b[0m\n\u001b[1;32m   3022\u001b[0m        filtered_flat_args) = self._maybe_define_function(args, kwargs)\n\u001b[1;32m   3023\u001b[0m     return graph_function._call_flat(\n\u001b[0;32m-> 3024\u001b[0;31m         filtered_flat_args, captured_inputs=graph_function.captured_inputs)  # pylint: disable=protected-access\n\u001b[0m\u001b[1;32m   3025\u001b[0m \u001b[0;34m\u001b[0m\u001b[0m\n\u001b[1;32m   3026\u001b[0m   \u001b[0;34m@\u001b[0m\u001b[0mproperty\u001b[0m\u001b[0;34m\u001b[0m\u001b[0;34m\u001b[0m\u001b[0m\n",
            "\u001b[0;32m/usr/local/lib/python3.7/dist-packages/tensorflow/python/eager/function.py\u001b[0m in \u001b[0;36m_call_flat\u001b[0;34m(self, args, captured_inputs, cancellation_manager)\u001b[0m\n\u001b[1;32m   1959\u001b[0m       \u001b[0;31m# No tape is watching; skip to running the function.\u001b[0m\u001b[0;34m\u001b[0m\u001b[0;34m\u001b[0m\u001b[0;34m\u001b[0m\u001b[0m\n\u001b[1;32m   1960\u001b[0m       return self._build_call_outputs(self._inference_function.call(\n\u001b[0;32m-> 1961\u001b[0;31m           ctx, args, cancellation_manager=cancellation_manager))\n\u001b[0m\u001b[1;32m   1962\u001b[0m     forward_backward = self._select_forward_and_backward_functions(\n\u001b[1;32m   1963\u001b[0m         \u001b[0margs\u001b[0m\u001b[0;34m,\u001b[0m\u001b[0;34m\u001b[0m\u001b[0;34m\u001b[0m\u001b[0m\n",
            "\u001b[0;32m/usr/local/lib/python3.7/dist-packages/tensorflow/python/eager/function.py\u001b[0m in \u001b[0;36mcall\u001b[0;34m(self, ctx, args, cancellation_manager)\u001b[0m\n\u001b[1;32m    594\u001b[0m               \u001b[0minputs\u001b[0m\u001b[0;34m=\u001b[0m\u001b[0margs\u001b[0m\u001b[0;34m,\u001b[0m\u001b[0;34m\u001b[0m\u001b[0;34m\u001b[0m\u001b[0m\n\u001b[1;32m    595\u001b[0m               \u001b[0mattrs\u001b[0m\u001b[0;34m=\u001b[0m\u001b[0mattrs\u001b[0m\u001b[0;34m,\u001b[0m\u001b[0;34m\u001b[0m\u001b[0;34m\u001b[0m\u001b[0m\n\u001b[0;32m--> 596\u001b[0;31m               ctx=ctx)\n\u001b[0m\u001b[1;32m    597\u001b[0m         \u001b[0;32melse\u001b[0m\u001b[0;34m:\u001b[0m\u001b[0;34m\u001b[0m\u001b[0;34m\u001b[0m\u001b[0m\n\u001b[1;32m    598\u001b[0m           outputs = execute.execute_with_cancellation(\n",
            "\u001b[0;32m/usr/local/lib/python3.7/dist-packages/tensorflow/python/eager/execute.py\u001b[0m in \u001b[0;36mquick_execute\u001b[0;34m(op_name, num_outputs, inputs, attrs, ctx, name)\u001b[0m\n\u001b[1;32m     58\u001b[0m     \u001b[0mctx\u001b[0m\u001b[0;34m.\u001b[0m\u001b[0mensure_initialized\u001b[0m\u001b[0;34m(\u001b[0m\u001b[0;34m)\u001b[0m\u001b[0;34m\u001b[0m\u001b[0;34m\u001b[0m\u001b[0m\n\u001b[1;32m     59\u001b[0m     tensors = pywrap_tfe.TFE_Py_Execute(ctx._handle, device_name, op_name,\n\u001b[0;32m---> 60\u001b[0;31m                                         inputs, attrs, num_outputs)\n\u001b[0m\u001b[1;32m     61\u001b[0m   \u001b[0;32mexcept\u001b[0m \u001b[0mcore\u001b[0m\u001b[0;34m.\u001b[0m\u001b[0m_NotOkStatusException\u001b[0m \u001b[0;32mas\u001b[0m \u001b[0me\u001b[0m\u001b[0;34m:\u001b[0m\u001b[0;34m\u001b[0m\u001b[0;34m\u001b[0m\u001b[0m\n\u001b[1;32m     62\u001b[0m     \u001b[0;32mif\u001b[0m \u001b[0mname\u001b[0m \u001b[0;32mis\u001b[0m \u001b[0;32mnot\u001b[0m \u001b[0;32mNone\u001b[0m\u001b[0;34m:\u001b[0m\u001b[0;34m\u001b[0m\u001b[0;34m\u001b[0m\u001b[0m\n",
            "\u001b[0;31mKeyboardInterrupt\u001b[0m: "
          ]
        }
      ]
    },
    {
      "cell_type": "code",
      "metadata": {
        "id": "som4LX0q0QR2",
        "colab": {
          "base_uri": "https://localhost:8080/"
        },
        "outputId": "d3e5479f-6d15-47d5-f359-3ea4ce9b2fc0"
      },
      "source": [
        "from keras.layers import Input, Dense, concatenate, Activation\n",
        "from keras.models import Model\n",
        "\n",
        "tweet_input = Input(shape=(45,), dtype='int32')\n",
        "\n",
        "tweet_encoder = Embedding(100000, 200, weights=[embedding_matrix], input_length=45, trainable=True)(tweet_input)\n",
        "bigram_branch = Conv1D(filters=100, kernel_size=2, padding='valid', activation='relu', strides=1)(tweet_encoder)\n",
        "bigram_branch = GlobalMaxPooling1D()(bigram_branch)\n",
        "trigram_branch = Conv1D(filters=100, kernel_size=3, padding='valid', activation='relu', strides=1)(tweet_encoder)\n",
        "trigram_branch = GlobalMaxPooling1D()(trigram_branch)\n",
        "fourgram_branch = Conv1D(filters=100, kernel_size=4, padding='valid', activation='relu', strides=1)(tweet_encoder)\n",
        "fourgram_branch = GlobalMaxPooling1D()(fourgram_branch)\n",
        "merged = concatenate([bigram_branch, trigram_branch, fourgram_branch], axis=1)\n",
        "\n",
        "merged = Dense(256, activation='relu')(merged)\n",
        "merged = Dropout(0.2)(merged)\n",
        "merged = Dense(1)(merged)\n",
        "output = Activation('sigmoid')(merged)\n",
        "model = Model(inputs=[tweet_input], outputs=[output])\n",
        "model.compile(loss='binary_crossentropy',\n",
        "                  optimizer='adam',\n",
        "                  metrics=['accuracy'])\n",
        "model.summary()"
      ],
      "execution_count": 38,
      "outputs": [
        {
          "output_type": "stream",
          "text": [
            "Model: \"model\"\n",
            "__________________________________________________________________________________________________\n",
            "Layer (type)                    Output Shape         Param #     Connected to                     \n",
            "==================================================================================================\n",
            "input_1 (InputLayer)            [(None, 45)]         0                                            \n",
            "__________________________________________________________________________________________________\n",
            "embedding_8 (Embedding)         (None, 45, 200)      20000000    input_1[0][0]                    \n",
            "__________________________________________________________________________________________________\n",
            "conv1d_7 (Conv1D)               (None, 44, 100)      40100       embedding_8[0][0]                \n",
            "__________________________________________________________________________________________________\n",
            "conv1d_8 (Conv1D)               (None, 43, 100)      60100       embedding_8[0][0]                \n",
            "__________________________________________________________________________________________________\n",
            "conv1d_9 (Conv1D)               (None, 42, 100)      80100       embedding_8[0][0]                \n",
            "__________________________________________________________________________________________________\n",
            "global_max_pooling1d_5 (GlobalM (None, 100)          0           conv1d_7[0][0]                   \n",
            "__________________________________________________________________________________________________\n",
            "global_max_pooling1d_6 (GlobalM (None, 100)          0           conv1d_8[0][0]                   \n",
            "__________________________________________________________________________________________________\n",
            "global_max_pooling1d_7 (GlobalM (None, 100)          0           conv1d_9[0][0]                   \n",
            "__________________________________________________________________________________________________\n",
            "concatenate (Concatenate)       (None, 300)          0           global_max_pooling1d_5[0][0]     \n",
            "                                                                 global_max_pooling1d_6[0][0]     \n",
            "                                                                 global_max_pooling1d_7[0][0]     \n",
            "__________________________________________________________________________________________________\n",
            "dense_10 (Dense)                (None, 256)          77056       concatenate[0][0]                \n",
            "__________________________________________________________________________________________________\n",
            "dropout (Dropout)               (None, 256)          0           dense_10[0][0]                   \n",
            "__________________________________________________________________________________________________\n",
            "dense_11 (Dense)                (None, 1)            257         dropout[0][0]                    \n",
            "__________________________________________________________________________________________________\n",
            "activation (Activation)         (None, 1)            0           dense_11[0][0]                   \n",
            "==================================================================================================\n",
            "Total params: 20,257,613\n",
            "Trainable params: 20,257,613\n",
            "Non-trainable params: 0\n",
            "__________________________________________________________________________________________________\n"
          ],
          "name": "stdout"
        }
      ]
    },
    {
      "cell_type": "code",
      "metadata": {
        "id": "DfvgG9Ik0pN8",
        "colab": {
          "base_uri": "https://localhost:8080/"
        },
        "outputId": "0143ccdf-a2d9-414b-c780-c9177dfde634"
      },
      "source": [
        "from keras.callbacks import ModelCheckpoint\n",
        "\n",
        "filepath=\"CNN_best_weights.hdf5\"\n",
        "checkpoint = ModelCheckpoint(filepath, monitor='val_acc', verbose=1, save_best_only=True, mode='max')\n",
        "\n",
        "model.fit(x_train_seq, y_train, batch_size=32, epochs=5,\n",
        "                     validation_data=(x_val_seq, y_validation), callbacks = [checkpoint])\n"
      ],
      "execution_count": 40,
      "outputs": [
        {
          "output_type": "stream",
          "text": [
            "Epoch 1/5\n",
            "1532/1532 [==============================] - 267s 174ms/step - loss: -13380058.0000 - accuracy: 0.6189 - val_loss: -42486248.0000 - val_accuracy: 0.6060\n",
            "WARNING:tensorflow:Can save best model only with val_acc available, skipping.\n"
          ],
          "name": "stdout"
        },
        {
          "output_type": "stream",
          "text": [
            "WARNING:tensorflow:Can save best model only with val_acc available, skipping.\n"
          ],
          "name": "stderr"
        },
        {
          "output_type": "stream",
          "text": [
            "Epoch 2/5\n",
            "1532/1532 [==============================] - 267s 174ms/step - loss: -80472448.0000 - accuracy: 0.6249 - val_loss: -177928352.0000 - val_accuracy: 0.6100\n",
            "WARNING:tensorflow:Can save best model only with val_acc available, skipping.\n"
          ],
          "name": "stdout"
        },
        {
          "output_type": "stream",
          "text": [
            "WARNING:tensorflow:Can save best model only with val_acc available, skipping.\n"
          ],
          "name": "stderr"
        },
        {
          "output_type": "stream",
          "text": [
            "Epoch 3/5\n",
            "1532/1532 [==============================] - 265s 173ms/step - loss: -250034208.0000 - accuracy: 0.6297 - val_loss: -472905088.0000 - val_accuracy: 0.6080\n",
            "WARNING:tensorflow:Can save best model only with val_acc available, skipping.\n"
          ],
          "name": "stdout"
        },
        {
          "output_type": "stream",
          "text": [
            "WARNING:tensorflow:Can save best model only with val_acc available, skipping.\n"
          ],
          "name": "stderr"
        },
        {
          "output_type": "stream",
          "text": [
            "Epoch 4/5\n",
            "1532/1532 [==============================] - 265s 173ms/step - loss: -581103872.0000 - accuracy: 0.6295 - val_loss: -997949632.0000 - val_accuracy: 0.6080\n",
            "WARNING:tensorflow:Can save best model only with val_acc available, skipping.\n"
          ],
          "name": "stdout"
        },
        {
          "output_type": "stream",
          "text": [
            "WARNING:tensorflow:Can save best model only with val_acc available, skipping.\n"
          ],
          "name": "stderr"
        },
        {
          "output_type": "stream",
          "text": [
            "Epoch 5/5\n",
            "1532/1532 [==============================] - 265s 173ms/step - loss: -1124566784.0000 - accuracy: 0.6301 - val_loss: -1819132288.0000 - val_accuracy: 0.6120\n",
            "WARNING:tensorflow:Can save best model only with val_acc available, skipping.\n"
          ],
          "name": "stdout"
        },
        {
          "output_type": "stream",
          "text": [
            "WARNING:tensorflow:Can save best model only with val_acc available, skipping.\n"
          ],
          "name": "stderr"
        },
        {
          "output_type": "execute_result",
          "data": {
            "text/plain": [
              "<keras.callbacks.History at 0x7fc1cc3b94d0>"
            ]
          },
          "metadata": {
            "tags": []
          },
          "execution_count": 40
        }
      ]
    },
    {
      "cell_type": "code",
      "metadata": {
        "id": "RXcZ0hqs0qj2"
      },
      "source": [
        "from keras.models import load_model\n",
        "loaded_CNN_model = load_model('CNN_best_weights.02-0.8333.hdf5')\n",
        "loaded_CNN_model.evaluate(x=x_val_seq, y=y_validation)"
      ],
      "execution_count": null,
      "outputs": []
    },
    {
      "cell_type": "code",
      "metadata": {
        "id": "RDh139cp0va2"
      },
      "source": [
        "#final model evaluation\n",
        "from sklearn.feature_extraction.text import TfidfVectorizer\n",
        "tvec = TfidfVectorizer(max_features=100000,ngram_range=(1, 3))\n",
        "tvec.fit(x_train)\n"
      ],
      "execution_count": null,
      "outputs": []
    },
    {
      "cell_type": "code",
      "metadata": {
        "id": "qIsRbkD00yzg"
      },
      "source": [
        "x_train_tfidf = tvec.transform(x_train)\n",
        "x_test_tfidf = tvec.transform(x_test)"
      ],
      "execution_count": null,
      "outputs": []
    },
    {
      "cell_type": "code",
      "metadata": {
        "id": "UyBKzzdY01bI"
      },
      "source": [
        "lr_with_tfidf = LogisticRegression()\n",
        "lr_with_tfidf.fit(x_train_tfidf,y_train)"
      ],
      "execution_count": null,
      "outputs": []
    },
    {
      "cell_type": "code",
      "metadata": {
        "id": "v4H45xOg02Py"
      },
      "source": [
        "lr_with_tfidf.score(x_test_tfidf,y_test)"
      ],
      "execution_count": null,
      "outputs": []
    },
    {
      "cell_type": "code",
      "metadata": {
        "id": "IYBcMZIc04W8"
      },
      "source": [
        "yhat_lr = lr_with_tfidf.predict_proba(x_test_tfidf)"
      ],
      "execution_count": null,
      "outputs": []
    },
    {
      "cell_type": "code",
      "metadata": {
        "id": "ZPm4O3Xt06Ow"
      },
      "source": [
        "sequences_test = tokenizer.texts_to_sequences(x_test)\n",
        "x_test_seq = pad_sequences(sequences_test, maxlen=45)"
      ],
      "execution_count": null,
      "outputs": []
    },
    {
      "cell_type": "code",
      "metadata": {
        "id": "U86IDzr608Fy"
      },
      "source": [
        "loaded_CNN_model.evaluate(x=x_test_seq, y=y_test)"
      ],
      "execution_count": null,
      "outputs": []
    },
    {
      "cell_type": "code",
      "metadata": {
        "id": "1e54gOoZ0_Q-"
      },
      "source": [
        "yhat_cnn = loaded_CNN_model.predict(x_test_seq)"
      ],
      "execution_count": null,
      "outputs": []
    },
    {
      "cell_type": "code",
      "metadata": {
        "id": "ZZz9mI2J1AGt"
      },
      "source": [
        "from sklearn.metrics import roc_curve, auc\n",
        "fpr, tpr, threshold = roc_curve(y_test, yhat_lr[:,1])\n",
        "roc_auc = auc(fpr, tpr)\n",
        "fpr_cnn, tpr_cnn, threshold = roc_curve(y_test, yhat_cnn)\n",
        "roc_auc_nn = auc(fpr_cnn, tpr_cnn)\n",
        "plt.figure(figsize=(8,7))\n",
        "plt.plot(fpr, tpr, label='tfidf-logit (area = %0.3f)' % roc_auc, linewidth=2)\n",
        "plt.plot(fpr_cnn, tpr_cnn, label='w2v-CNN (area = %0.3f)' % roc_auc_nn, linewidth=2)\n",
        "\n",
        "plt.plot([0, 1], [0, 1], 'k--', linewidth=2)\n",
        "plt.xlim([-0.05, 1.0])\n",
        "plt.ylim([-0.05, 1.05])\n",
        "plt.xlabel('False Positive Rate', fontsize=18)\n",
        "plt.ylabel('True Positive Rate', fontsize=18)\n",
        "plt.title('Receiver operating characteristic: is positive', fontsize=18)\n",
        "plt.legend(loc=\"lower right\")\n",
        "plt.show()"
      ],
      "execution_count": null,
      "outputs": []
    },
    {
      "cell_type": "code",
      "metadata": {
        "id": "4aWXM2PV5WlZ"
      },
      "source": [
        "from google.colab import files\n",
        "files.download('w2v_model_ug_cbow.word2vec')\n",
        "files.download('w2v_model_ug_sg.word2vec')\n"
      ],
      "execution_count": null,
      "outputs": []
    },
    {
      "cell_type": "code",
      "metadata": {
        "id": "peK8yTX7IsXb"
      },
      "source": [
        ""
      ],
      "execution_count": null,
      "outputs": []
    }
  ]
}